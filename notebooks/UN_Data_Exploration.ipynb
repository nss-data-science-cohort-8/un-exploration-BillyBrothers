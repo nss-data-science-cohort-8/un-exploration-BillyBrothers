{
 "cells": [
  {
   "cell_type": "markdown",
   "id": "4342f0c9-13cf-4c1b-a2f8-f7b1916aad01",
   "metadata": {},
   "source": [
    "# UN Data Exploration"
   ]
  },
  {
   "cell_type": "markdown",
   "id": "fa6422df-969e-49c8-84dc-a6a6248a6b2d",
   "metadata": {},
   "source": [
    "## 3. Import Required Packages"
   ]
  },
  {
   "cell_type": "code",
   "execution_count": 3,
   "id": "28269ade-86b3-4f1c-a155-879b1d495e7a",
   "metadata": {},
   "outputs": [],
   "source": [
    "import pandas as pd \n",
    "import numpy as np\n",
    "import matplotlib.pyplot as plt\n",
    "import seaborn as sns"
   ]
  },
  {
   "cell_type": "markdown",
   "id": "53efaa46-315a-46ef-8c0d-fe9a4143b785",
   "metadata": {},
   "source": [
    "## 4. Read in GDP Data Set\n",
    "I'm examining the top 10 and bottom 10 rows of the dataframe to see the variables and indexes."
   ]
  },
  {
   "cell_type": "code",
   "execution_count": 5,
   "id": "5d5dd77d-f3ce-4fcb-9dad-4900b3f7e09b",
   "metadata": {
    "scrolled": true
   },
   "outputs": [
    {
     "data": {
      "text/html": [
       "<div>\n",
       "<style scoped>\n",
       "    .dataframe tbody tr th:only-of-type {\n",
       "        vertical-align: middle;\n",
       "    }\n",
       "\n",
       "    .dataframe tbody tr th {\n",
       "        vertical-align: top;\n",
       "    }\n",
       "\n",
       "    .dataframe thead th {\n",
       "        text-align: right;\n",
       "    }\n",
       "</style>\n",
       "<table border=\"1\" class=\"dataframe\">\n",
       "  <thead>\n",
       "    <tr style=\"text-align: right;\">\n",
       "      <th></th>\n",
       "      <th>Country or Area</th>\n",
       "      <th>Year</th>\n",
       "      <th>Value</th>\n",
       "      <th>Value Footnotes</th>\n",
       "    </tr>\n",
       "  </thead>\n",
       "  <tbody>\n",
       "    <tr>\n",
       "      <th>0</th>\n",
       "      <td>Afghanistan</td>\n",
       "      <td>2021</td>\n",
       "      <td>1673.964059</td>\n",
       "      <td>NaN</td>\n",
       "    </tr>\n",
       "    <tr>\n",
       "      <th>1</th>\n",
       "      <td>Afghanistan</td>\n",
       "      <td>2020</td>\n",
       "      <td>2078.595086</td>\n",
       "      <td>NaN</td>\n",
       "    </tr>\n",
       "    <tr>\n",
       "      <th>2</th>\n",
       "      <td>Afghanistan</td>\n",
       "      <td>2019</td>\n",
       "      <td>2168.133765</td>\n",
       "      <td>NaN</td>\n",
       "    </tr>\n",
       "    <tr>\n",
       "      <th>3</th>\n",
       "      <td>Afghanistan</td>\n",
       "      <td>2018</td>\n",
       "      <td>2110.239384</td>\n",
       "      <td>NaN</td>\n",
       "    </tr>\n",
       "    <tr>\n",
       "      <th>4</th>\n",
       "      <td>Afghanistan</td>\n",
       "      <td>2017</td>\n",
       "      <td>2096.093111</td>\n",
       "      <td>NaN</td>\n",
       "    </tr>\n",
       "    <tr>\n",
       "      <th>5</th>\n",
       "      <td>Afghanistan</td>\n",
       "      <td>2016</td>\n",
       "      <td>2023.834656</td>\n",
       "      <td>NaN</td>\n",
       "    </tr>\n",
       "    <tr>\n",
       "      <th>6</th>\n",
       "      <td>Afghanistan</td>\n",
       "      <td>2015</td>\n",
       "      <td>2128.125938</td>\n",
       "      <td>NaN</td>\n",
       "    </tr>\n",
       "    <tr>\n",
       "      <th>7</th>\n",
       "      <td>Afghanistan</td>\n",
       "      <td>2014</td>\n",
       "      <td>2110.829568</td>\n",
       "      <td>NaN</td>\n",
       "    </tr>\n",
       "    <tr>\n",
       "      <th>8</th>\n",
       "      <td>Afghanistan</td>\n",
       "      <td>2013</td>\n",
       "      <td>2062.059176</td>\n",
       "      <td>NaN</td>\n",
       "    </tr>\n",
       "    <tr>\n",
       "      <th>9</th>\n",
       "      <td>Afghanistan</td>\n",
       "      <td>2012</td>\n",
       "      <td>1958.447627</td>\n",
       "      <td>NaN</td>\n",
       "    </tr>\n",
       "  </tbody>\n",
       "</table>\n",
       "</div>"
      ],
      "text/plain": [
       "  Country or Area  Year        Value  Value Footnotes\n",
       "0     Afghanistan  2021  1673.964059              NaN\n",
       "1     Afghanistan  2020  2078.595086              NaN\n",
       "2     Afghanistan  2019  2168.133765              NaN\n",
       "3     Afghanistan  2018  2110.239384              NaN\n",
       "4     Afghanistan  2017  2096.093111              NaN\n",
       "5     Afghanistan  2016  2023.834656              NaN\n",
       "6     Afghanistan  2015  2128.125938              NaN\n",
       "7     Afghanistan  2014  2110.829568              NaN\n",
       "8     Afghanistan  2013  2062.059176              NaN\n",
       "9     Afghanistan  2012  1958.447627              NaN"
      ]
     },
     "execution_count": 5,
     "metadata": {},
     "output_type": "execute_result"
    }
   ],
   "source": [
    "gdp_df = pd.read_csv('../data/gdp_per_capita.csv/UNdata_Export_20241004_025527195.csv') # read in data file\n",
    "gdp_df.head(10)"
   ]
  },
  {
   "cell_type": "code",
   "execution_count": 6,
   "id": "31618246-0436-4625-89d4-7601852efa16",
   "metadata": {},
   "outputs": [
    {
     "data": {
      "text/html": [
       "<div>\n",
       "<style scoped>\n",
       "    .dataframe tbody tr th:only-of-type {\n",
       "        vertical-align: middle;\n",
       "    }\n",
       "\n",
       "    .dataframe tbody tr th {\n",
       "        vertical-align: top;\n",
       "    }\n",
       "\n",
       "    .dataframe thead th {\n",
       "        text-align: right;\n",
       "    }\n",
       "</style>\n",
       "<table border=\"1\" class=\"dataframe\">\n",
       "  <thead>\n",
       "    <tr style=\"text-align: right;\">\n",
       "      <th></th>\n",
       "      <th>Country or Area</th>\n",
       "      <th>Year</th>\n",
       "      <th>Value</th>\n",
       "      <th>Value Footnotes</th>\n",
       "    </tr>\n",
       "  </thead>\n",
       "  <tbody>\n",
       "    <tr>\n",
       "      <th>7718</th>\n",
       "      <td>Zimbabwe</td>\n",
       "      <td>1999</td>\n",
       "      <td>2279.549784</td>\n",
       "      <td>NaN</td>\n",
       "    </tr>\n",
       "    <tr>\n",
       "      <th>7719</th>\n",
       "      <td>Zimbabwe</td>\n",
       "      <td>1998</td>\n",
       "      <td>2299.395445</td>\n",
       "      <td>NaN</td>\n",
       "    </tr>\n",
       "    <tr>\n",
       "      <th>7720</th>\n",
       "      <td>Zimbabwe</td>\n",
       "      <td>1997</td>\n",
       "      <td>2246.209391</td>\n",
       "      <td>NaN</td>\n",
       "    </tr>\n",
       "    <tr>\n",
       "      <th>7721</th>\n",
       "      <td>Zimbabwe</td>\n",
       "      <td>1996</td>\n",
       "      <td>2185.928529</td>\n",
       "      <td>NaN</td>\n",
       "    </tr>\n",
       "    <tr>\n",
       "      <th>7722</th>\n",
       "      <td>Zimbabwe</td>\n",
       "      <td>1995</td>\n",
       "      <td>1977.675574</td>\n",
       "      <td>NaN</td>\n",
       "    </tr>\n",
       "    <tr>\n",
       "      <th>7723</th>\n",
       "      <td>Zimbabwe</td>\n",
       "      <td>1994</td>\n",
       "      <td>1958.125362</td>\n",
       "      <td>NaN</td>\n",
       "    </tr>\n",
       "    <tr>\n",
       "      <th>7724</th>\n",
       "      <td>Zimbabwe</td>\n",
       "      <td>1993</td>\n",
       "      <td>1765.451299</td>\n",
       "      <td>NaN</td>\n",
       "    </tr>\n",
       "    <tr>\n",
       "      <th>7725</th>\n",
       "      <td>Zimbabwe</td>\n",
       "      <td>1992</td>\n",
       "      <td>1731.232787</td>\n",
       "      <td>NaN</td>\n",
       "    </tr>\n",
       "    <tr>\n",
       "      <th>7726</th>\n",
       "      <td>Zimbabwe</td>\n",
       "      <td>1991</td>\n",
       "      <td>1907.652489</td>\n",
       "      <td>NaN</td>\n",
       "    </tr>\n",
       "    <tr>\n",
       "      <th>7727</th>\n",
       "      <td>Zimbabwe</td>\n",
       "      <td>1990</td>\n",
       "      <td>1794.153646</td>\n",
       "      <td>NaN</td>\n",
       "    </tr>\n",
       "  </tbody>\n",
       "</table>\n",
       "</div>"
      ],
      "text/plain": [
       "     Country or Area  Year        Value  Value Footnotes\n",
       "7718        Zimbabwe  1999  2279.549784              NaN\n",
       "7719        Zimbabwe  1998  2299.395445              NaN\n",
       "7720        Zimbabwe  1997  2246.209391              NaN\n",
       "7721        Zimbabwe  1996  2185.928529              NaN\n",
       "7722        Zimbabwe  1995  1977.675574              NaN\n",
       "7723        Zimbabwe  1994  1958.125362              NaN\n",
       "7724        Zimbabwe  1993  1765.451299              NaN\n",
       "7725        Zimbabwe  1992  1731.232787              NaN\n",
       "7726        Zimbabwe  1991  1907.652489              NaN\n",
       "7727        Zimbabwe  1990  1794.153646              NaN"
      ]
     },
     "execution_count": 6,
     "metadata": {},
     "output_type": "execute_result"
    }
   ],
   "source": [
    "gdp_df.tail(10)"
   ]
  },
  {
   "cell_type": "markdown",
   "id": "522f118f-63c0-48b7-a7e6-de5aecdf92ae",
   "metadata": {},
   "source": [
    "## 5. Drop Value Footnotes Column + Rename Columns"
   ]
  },
  {
   "cell_type": "code",
   "execution_count": 8,
   "id": "bfcfee2d-bc84-4981-8f5e-fefd72bab618",
   "metadata": {},
   "outputs": [],
   "source": [
    "gdp_df = (\n",
    "    gdp_df\n",
    "    .drop('Value Footnotes', axis=1) #drop the last column to delete NaN values.\n",
    "    .rename(columns={'Country or Area': 'Country', 'Year': 'Year', 'Value': 'GDP_per_Capita'}) #rename columns for accuracy\n",
    ")"
   ]
  },
  {
   "cell_type": "code",
   "execution_count": 9,
   "id": "4dbc277c-dc55-49ab-8c32-4682fa8aef1d",
   "metadata": {},
   "outputs": [
    {
     "data": {
      "text/html": [
       "<div>\n",
       "<style scoped>\n",
       "    .dataframe tbody tr th:only-of-type {\n",
       "        vertical-align: middle;\n",
       "    }\n",
       "\n",
       "    .dataframe tbody tr th {\n",
       "        vertical-align: top;\n",
       "    }\n",
       "\n",
       "    .dataframe thead th {\n",
       "        text-align: right;\n",
       "    }\n",
       "</style>\n",
       "<table border=\"1\" class=\"dataframe\">\n",
       "  <thead>\n",
       "    <tr style=\"text-align: right;\">\n",
       "      <th></th>\n",
       "      <th>Country</th>\n",
       "      <th>Year</th>\n",
       "      <th>GDP_per_Capita</th>\n",
       "    </tr>\n",
       "  </thead>\n",
       "  <tbody>\n",
       "    <tr>\n",
       "      <th>0</th>\n",
       "      <td>Afghanistan</td>\n",
       "      <td>2021</td>\n",
       "      <td>1673.964059</td>\n",
       "    </tr>\n",
       "    <tr>\n",
       "      <th>1</th>\n",
       "      <td>Afghanistan</td>\n",
       "      <td>2020</td>\n",
       "      <td>2078.595086</td>\n",
       "    </tr>\n",
       "    <tr>\n",
       "      <th>2</th>\n",
       "      <td>Afghanistan</td>\n",
       "      <td>2019</td>\n",
       "      <td>2168.133765</td>\n",
       "    </tr>\n",
       "    <tr>\n",
       "      <th>3</th>\n",
       "      <td>Afghanistan</td>\n",
       "      <td>2018</td>\n",
       "      <td>2110.239384</td>\n",
       "    </tr>\n",
       "    <tr>\n",
       "      <th>4</th>\n",
       "      <td>Afghanistan</td>\n",
       "      <td>2017</td>\n",
       "      <td>2096.093111</td>\n",
       "    </tr>\n",
       "  </tbody>\n",
       "</table>\n",
       "</div>"
      ],
      "text/plain": [
       "       Country  Year  GDP_per_Capita\n",
       "0  Afghanistan  2021     1673.964059\n",
       "1  Afghanistan  2020     2078.595086\n",
       "2  Afghanistan  2019     2168.133765\n",
       "3  Afghanistan  2018     2110.239384\n",
       "4  Afghanistan  2017     2096.093111"
      ]
     },
     "execution_count": 9,
     "metadata": {},
     "output_type": "execute_result"
    }
   ],
   "source": [
    "gdp_df.head()"
   ]
  },
  {
   "cell_type": "markdown",
   "id": "df0ac419-c860-4510-b9f0-c13967bc303a",
   "metadata": {},
   "source": [
    "## 6. Compute amount of Rows and Columns\n",
    "We have 7728 rows and 3 columns. \n",
    "- Country Column = object,\n",
    "- Year Column = int\n",
    "- GDP_per_capita Column = float"
   ]
  },
  {
   "cell_type": "code",
   "execution_count": 11,
   "id": "d1b8f509-e960-4c0b-b1aa-d526203738ff",
   "metadata": {},
   "outputs": [
    {
     "name": "stdout",
     "output_type": "stream",
     "text": [
      "<class 'pandas.core.frame.DataFrame'>\n",
      "RangeIndex: 7728 entries, 0 to 7727\n",
      "Data columns (total 3 columns):\n",
      " #   Column          Non-Null Count  Dtype  \n",
      "---  ------          --------------  -----  \n",
      " 0   Country         7728 non-null   object \n",
      " 1   Year            7728 non-null   int64  \n",
      " 2   GDP_per_Capita  7728 non-null   float64\n",
      "dtypes: float64(1), int64(1), object(1)\n",
      "memory usage: 181.3+ KB\n"
     ]
    }
   ],
   "source": [
    "gdp_df.info() # use the info because it produces both the amout of rows and columns and their data types."
   ]
  },
  {
   "cell_type": "markdown",
   "id": "edcc7d76-33fe-4b89-99fd-5096b86ca876",
   "metadata": {},
   "source": [
    "## 7. Display Years and Observations per year\n",
    "The observations occur between the years 1990 and 2013. The ranges from 208 to 244 and is increasing over time and varies."
   ]
  },
  {
   "cell_type": "code",
   "execution_count": 14,
   "id": "aa6c1ab1-12b6-4dcb-bfeb-03dfdebd0cb0",
   "metadata": {},
   "outputs": [
    {
     "data": {
      "text/plain": [
       "Year\n",
       "2013    244\n",
       "2011    244\n",
       "2009    243\n",
       "2015    243\n",
       "2014    243\n",
       "2010    243\n",
       "2019    242\n",
       "2018    242\n",
       "2016    242\n",
       "2008    242\n",
       "2012    242\n",
       "2017    242\n",
       "2021    241\n",
       "2020    241\n",
       "2007    240\n",
       "2006    240\n",
       "2005    239\n",
       "2004    239\n",
       "2003    238\n",
       "2002    238\n",
       "2001    237\n",
       "2000    236\n",
       "2022    232\n",
       "1999    228\n",
       "1998    227\n",
       "1997    227\n",
       "1996    226\n",
       "1995    226\n",
       "1994    216\n",
       "1993    214\n",
       "1992    213\n",
       "1991    210\n",
       "1990    208\n",
       "Name: count, dtype: int64"
      ]
     },
     "execution_count": 14,
     "metadata": {},
     "output_type": "execute_result"
    }
   ],
   "source": [
    "gdp_df['Year'].value_counts().sort_values(ascending=False) # the range of years and observations per year sorted from largest to smallest."
   ]
  },
  {
   "cell_type": "code",
   "execution_count": 15,
   "id": "12da3fbb-7cb3-4e22-a492-9768ce1a6269",
   "metadata": {},
   "outputs": [
    {
     "data": {
      "text/plain": [
       "244"
      ]
     },
     "execution_count": 15,
     "metadata": {},
     "output_type": "execute_result"
    }
   ],
   "source": [
    "gdp_df['Year'].value_counts().max() # I want to know the max number of observations"
   ]
  },
  {
   "cell_type": "code",
   "execution_count": 16,
   "id": "cf233ac4-671c-4c3f-9773-b0980ee317ad",
   "metadata": {},
   "outputs": [
    {
     "data": {
      "text/plain": [
       "208"
      ]
     },
     "execution_count": 16,
     "metadata": {},
     "output_type": "execute_result"
    }
   ],
   "source": [
    "gdp_df['Year'].value_counts().min() # I want to know the min number of observations"
   ]
  },
  {
   "cell_type": "markdown",
   "id": "d6562726-aba8-4820-999a-583b2749b174",
   "metadata": {},
   "source": [
    "## 8. Number of Countries in Dataset - Least represented Countries \n",
    "There are 246 countries in the dataset. South Sudan, Somalia, Dijibouti, Turks and Caicos Islands, and Sint Maarten (Dutch part) have the lowest number of observations. The countries are underdeveloped, war-torn (some), and struggle to collect and produce data. It is also possible they started collecting data at a later date. "
   ]
  },
  {
   "cell_type": "code",
   "execution_count": 72,
   "id": "d111f767-1e19-4401-87a3-688f3e6404a7",
   "metadata": {
    "scrolled": true
   },
   "outputs": [
    {
     "data": {
      "text/plain": [
       "246"
      ]
     },
     "execution_count": 72,
     "metadata": {},
     "output_type": "execute_result"
    }
   ],
   "source": [
    "gdp_df['Country'].nunique() # I want to know how many countries are in the dataset. "
   ]
  },
  {
   "cell_type": "code",
   "execution_count": 75,
   "id": "598f25c4-ca9c-4c47-9df5-82a829f94378",
   "metadata": {},
   "outputs": [
    {
     "data": {
      "text/plain": [
       "Country\n",
       "Zimbabwe                     33\n",
       "Marshall Islands             33\n",
       "Low income                   33\n",
       "Lower middle income          33\n",
       "Luxembourg                   33\n",
       "                             ..\n",
       "Sint Maarten (Dutch part)    14\n",
       "Turks and Caicos Islands     12\n",
       "Djibouti                     10\n",
       "Somalia                      10\n",
       "South Sudan                   8\n",
       "Name: count, Length: 246, dtype: int64"
      ]
     },
     "execution_count": 75,
     "metadata": {},
     "output_type": "execute_result"
    }
   ],
   "source": [
    "gdp_df['Country'].value_counts() # I want to know what countries have the lowest number of observations."
   ]
  },
  {
   "cell_type": "code",
   "execution_count": null,
   "id": "7cbb5d41-fd90-430e-b929-037c934d40b1",
   "metadata": {},
   "outputs": [],
   "source": []
  }
 ],
 "metadata": {
  "kernelspec": {
   "display_name": "Python 3 (ipykernel)",
   "language": "python",
   "name": "python3"
  },
  "language_info": {
   "codemirror_mode": {
    "name": "ipython",
    "version": 3
   },
   "file_extension": ".py",
   "mimetype": "text/x-python",
   "name": "python",
   "nbconvert_exporter": "python",
   "pygments_lexer": "ipython3",
   "version": "3.12.4"
  }
 },
 "nbformat": 4,
 "nbformat_minor": 5
}
