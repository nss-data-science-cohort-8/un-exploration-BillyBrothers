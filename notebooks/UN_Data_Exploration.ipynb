{
 "cells": [
  {
   "cell_type": "markdown",
   "id": "4342f0c9-13cf-4c1b-a2f8-f7b1916aad01",
   "metadata": {},
   "source": [
    "# UN Data Exploration"
   ]
  },
  {
   "cell_type": "markdown",
   "id": "fa6422df-969e-49c8-84dc-a6a6248a6b2d",
   "metadata": {},
   "source": [
    "## 3. Import Required Packages"
   ]
  },
  {
   "cell_type": "code",
   "execution_count": 3,
   "id": "28269ade-86b3-4f1c-a155-879b1d495e7a",
   "metadata": {},
   "outputs": [],
   "source": [
    "import pandas as pd \n",
    "import numpy as np\n",
    "import matplotlib.pyplot as plt\n",
    "import seaborn as sns"
   ]
  },
  {
   "cell_type": "markdown",
   "id": "53efaa46-315a-46ef-8c0d-fe9a4143b785",
   "metadata": {},
   "source": [
    "## 4. Read in GDP Data Set\n",
    "I'm examining the top 10 and bottom 10 rows of the dataframe to see the variables and indexes."
   ]
  },
  {
   "cell_type": "code",
   "execution_count": 5,
   "id": "5d5dd77d-f3ce-4fcb-9dad-4900b3f7e09b",
   "metadata": {
    "scrolled": true
   },
   "outputs": [
    {
     "data": {
      "text/html": [
       "<div>\n",
       "<style scoped>\n",
       "    .dataframe tbody tr th:only-of-type {\n",
       "        vertical-align: middle;\n",
       "    }\n",
       "\n",
       "    .dataframe tbody tr th {\n",
       "        vertical-align: top;\n",
       "    }\n",
       "\n",
       "    .dataframe thead th {\n",
       "        text-align: right;\n",
       "    }\n",
       "</style>\n",
       "<table border=\"1\" class=\"dataframe\">\n",
       "  <thead>\n",
       "    <tr style=\"text-align: right;\">\n",
       "      <th></th>\n",
       "      <th>Country or Area</th>\n",
       "      <th>Year</th>\n",
       "      <th>Value</th>\n",
       "      <th>Value Footnotes</th>\n",
       "    </tr>\n",
       "  </thead>\n",
       "  <tbody>\n",
       "    <tr>\n",
       "      <th>0</th>\n",
       "      <td>Afghanistan</td>\n",
       "      <td>2021</td>\n",
       "      <td>1673.964059</td>\n",
       "      <td>NaN</td>\n",
       "    </tr>\n",
       "    <tr>\n",
       "      <th>1</th>\n",
       "      <td>Afghanistan</td>\n",
       "      <td>2020</td>\n",
       "      <td>2078.595086</td>\n",
       "      <td>NaN</td>\n",
       "    </tr>\n",
       "    <tr>\n",
       "      <th>2</th>\n",
       "      <td>Afghanistan</td>\n",
       "      <td>2019</td>\n",
       "      <td>2168.133765</td>\n",
       "      <td>NaN</td>\n",
       "    </tr>\n",
       "    <tr>\n",
       "      <th>3</th>\n",
       "      <td>Afghanistan</td>\n",
       "      <td>2018</td>\n",
       "      <td>2110.239384</td>\n",
       "      <td>NaN</td>\n",
       "    </tr>\n",
       "    <tr>\n",
       "      <th>4</th>\n",
       "      <td>Afghanistan</td>\n",
       "      <td>2017</td>\n",
       "      <td>2096.093111</td>\n",
       "      <td>NaN</td>\n",
       "    </tr>\n",
       "    <tr>\n",
       "      <th>5</th>\n",
       "      <td>Afghanistan</td>\n",
       "      <td>2016</td>\n",
       "      <td>2023.834656</td>\n",
       "      <td>NaN</td>\n",
       "    </tr>\n",
       "    <tr>\n",
       "      <th>6</th>\n",
       "      <td>Afghanistan</td>\n",
       "      <td>2015</td>\n",
       "      <td>2128.125938</td>\n",
       "      <td>NaN</td>\n",
       "    </tr>\n",
       "    <tr>\n",
       "      <th>7</th>\n",
       "      <td>Afghanistan</td>\n",
       "      <td>2014</td>\n",
       "      <td>2110.829568</td>\n",
       "      <td>NaN</td>\n",
       "    </tr>\n",
       "    <tr>\n",
       "      <th>8</th>\n",
       "      <td>Afghanistan</td>\n",
       "      <td>2013</td>\n",
       "      <td>2062.059176</td>\n",
       "      <td>NaN</td>\n",
       "    </tr>\n",
       "    <tr>\n",
       "      <th>9</th>\n",
       "      <td>Afghanistan</td>\n",
       "      <td>2012</td>\n",
       "      <td>1958.447627</td>\n",
       "      <td>NaN</td>\n",
       "    </tr>\n",
       "  </tbody>\n",
       "</table>\n",
       "</div>"
      ],
      "text/plain": [
       "  Country or Area  Year        Value  Value Footnotes\n",
       "0     Afghanistan  2021  1673.964059              NaN\n",
       "1     Afghanistan  2020  2078.595086              NaN\n",
       "2     Afghanistan  2019  2168.133765              NaN\n",
       "3     Afghanistan  2018  2110.239384              NaN\n",
       "4     Afghanistan  2017  2096.093111              NaN\n",
       "5     Afghanistan  2016  2023.834656              NaN\n",
       "6     Afghanistan  2015  2128.125938              NaN\n",
       "7     Afghanistan  2014  2110.829568              NaN\n",
       "8     Afghanistan  2013  2062.059176              NaN\n",
       "9     Afghanistan  2012  1958.447627              NaN"
      ]
     },
     "execution_count": 5,
     "metadata": {},
     "output_type": "execute_result"
    }
   ],
   "source": [
    "gdp_df = pd.read_csv('../data/gdp_per_capita.csv/UNdata_Export_20241004_025527195.csv') # read in data file\n",
    "gdp_df.head(10)"
   ]
  },
  {
   "cell_type": "code",
   "execution_count": 6,
   "id": "31618246-0436-4625-89d4-7601852efa16",
   "metadata": {},
   "outputs": [
    {
     "data": {
      "text/html": [
       "<div>\n",
       "<style scoped>\n",
       "    .dataframe tbody tr th:only-of-type {\n",
       "        vertical-align: middle;\n",
       "    }\n",
       "\n",
       "    .dataframe tbody tr th {\n",
       "        vertical-align: top;\n",
       "    }\n",
       "\n",
       "    .dataframe thead th {\n",
       "        text-align: right;\n",
       "    }\n",
       "</style>\n",
       "<table border=\"1\" class=\"dataframe\">\n",
       "  <thead>\n",
       "    <tr style=\"text-align: right;\">\n",
       "      <th></th>\n",
       "      <th>Country or Area</th>\n",
       "      <th>Year</th>\n",
       "      <th>Value</th>\n",
       "      <th>Value Footnotes</th>\n",
       "    </tr>\n",
       "  </thead>\n",
       "  <tbody>\n",
       "    <tr>\n",
       "      <th>7718</th>\n",
       "      <td>Zimbabwe</td>\n",
       "      <td>1999</td>\n",
       "      <td>2279.549784</td>\n",
       "      <td>NaN</td>\n",
       "    </tr>\n",
       "    <tr>\n",
       "      <th>7719</th>\n",
       "      <td>Zimbabwe</td>\n",
       "      <td>1998</td>\n",
       "      <td>2299.395445</td>\n",
       "      <td>NaN</td>\n",
       "    </tr>\n",
       "    <tr>\n",
       "      <th>7720</th>\n",
       "      <td>Zimbabwe</td>\n",
       "      <td>1997</td>\n",
       "      <td>2246.209391</td>\n",
       "      <td>NaN</td>\n",
       "    </tr>\n",
       "    <tr>\n",
       "      <th>7721</th>\n",
       "      <td>Zimbabwe</td>\n",
       "      <td>1996</td>\n",
       "      <td>2185.928529</td>\n",
       "      <td>NaN</td>\n",
       "    </tr>\n",
       "    <tr>\n",
       "      <th>7722</th>\n",
       "      <td>Zimbabwe</td>\n",
       "      <td>1995</td>\n",
       "      <td>1977.675574</td>\n",
       "      <td>NaN</td>\n",
       "    </tr>\n",
       "    <tr>\n",
       "      <th>7723</th>\n",
       "      <td>Zimbabwe</td>\n",
       "      <td>1994</td>\n",
       "      <td>1958.125362</td>\n",
       "      <td>NaN</td>\n",
       "    </tr>\n",
       "    <tr>\n",
       "      <th>7724</th>\n",
       "      <td>Zimbabwe</td>\n",
       "      <td>1993</td>\n",
       "      <td>1765.451299</td>\n",
       "      <td>NaN</td>\n",
       "    </tr>\n",
       "    <tr>\n",
       "      <th>7725</th>\n",
       "      <td>Zimbabwe</td>\n",
       "      <td>1992</td>\n",
       "      <td>1731.232787</td>\n",
       "      <td>NaN</td>\n",
       "    </tr>\n",
       "    <tr>\n",
       "      <th>7726</th>\n",
       "      <td>Zimbabwe</td>\n",
       "      <td>1991</td>\n",
       "      <td>1907.652489</td>\n",
       "      <td>NaN</td>\n",
       "    </tr>\n",
       "    <tr>\n",
       "      <th>7727</th>\n",
       "      <td>Zimbabwe</td>\n",
       "      <td>1990</td>\n",
       "      <td>1794.153646</td>\n",
       "      <td>NaN</td>\n",
       "    </tr>\n",
       "  </tbody>\n",
       "</table>\n",
       "</div>"
      ],
      "text/plain": [
       "     Country or Area  Year        Value  Value Footnotes\n",
       "7718        Zimbabwe  1999  2279.549784              NaN\n",
       "7719        Zimbabwe  1998  2299.395445              NaN\n",
       "7720        Zimbabwe  1997  2246.209391              NaN\n",
       "7721        Zimbabwe  1996  2185.928529              NaN\n",
       "7722        Zimbabwe  1995  1977.675574              NaN\n",
       "7723        Zimbabwe  1994  1958.125362              NaN\n",
       "7724        Zimbabwe  1993  1765.451299              NaN\n",
       "7725        Zimbabwe  1992  1731.232787              NaN\n",
       "7726        Zimbabwe  1991  1907.652489              NaN\n",
       "7727        Zimbabwe  1990  1794.153646              NaN"
      ]
     },
     "execution_count": 6,
     "metadata": {},
     "output_type": "execute_result"
    }
   ],
   "source": [
    "gdp_df.tail(10)"
   ]
  },
  {
   "cell_type": "markdown",
   "id": "522f118f-63c0-48b7-a7e6-de5aecdf92ae",
   "metadata": {},
   "source": [
    "## 5. Drop Value Footnotes Column + Rename Columns"
   ]
  },
  {
   "cell_type": "code",
   "execution_count": 8,
   "id": "bfcfee2d-bc84-4981-8f5e-fefd72bab618",
   "metadata": {},
   "outputs": [],
   "source": [
    "gdp_df = (\n",
    "    gdp_df\n",
    "    .drop('Value Footnotes', axis=1) \n",
    "    .rename(columns={'Country or Area': 'Country', 'Year': 'Year', 'Value': 'GDP_per_Capita'}) #rename columns for accuracy\n",
    ")"
   ]
  },
  {
   "cell_type": "code",
   "execution_count": 9,
   "id": "71765930-0558-4381-93a2-c80bdcaeae85",
   "metadata": {},
   "outputs": [
    {
     "data": {
      "text/html": [
       "<div>\n",
       "<style scoped>\n",
       "    .dataframe tbody tr th:only-of-type {\n",
       "        vertical-align: middle;\n",
       "    }\n",
       "\n",
       "    .dataframe tbody tr th {\n",
       "        vertical-align: top;\n",
       "    }\n",
       "\n",
       "    .dataframe thead th {\n",
       "        text-align: right;\n",
       "    }\n",
       "</style>\n",
       "<table border=\"1\" class=\"dataframe\">\n",
       "  <thead>\n",
       "    <tr style=\"text-align: right;\">\n",
       "      <th></th>\n",
       "      <th>Country</th>\n",
       "      <th>Year</th>\n",
       "      <th>GDP_per_Capita</th>\n",
       "    </tr>\n",
       "  </thead>\n",
       "  <tbody>\n",
       "    <tr>\n",
       "      <th>0</th>\n",
       "      <td>Afghanistan</td>\n",
       "      <td>2021</td>\n",
       "      <td>1673.964059</td>\n",
       "    </tr>\n",
       "    <tr>\n",
       "      <th>1</th>\n",
       "      <td>Afghanistan</td>\n",
       "      <td>2020</td>\n",
       "      <td>2078.595086</td>\n",
       "    </tr>\n",
       "  </tbody>\n",
       "</table>\n",
       "</div>"
      ],
      "text/plain": [
       "       Country  Year  GDP_per_Capita\n",
       "0  Afghanistan  2021     1673.964059\n",
       "1  Afghanistan  2020     2078.595086"
      ]
     },
     "execution_count": 9,
     "metadata": {},
     "output_type": "execute_result"
    }
   ],
   "source": [
    "gdp_df.head(2)"
   ]
  },
  {
   "cell_type": "markdown",
   "id": "df0ac419-c860-4510-b9f0-c13967bc303a",
   "metadata": {},
   "source": [
    "## 6. Compute amount of Rows and Columns\n",
    "We have 7728 rows and 3 columns. \n",
    "- Country Column = object,\n",
    "- Year Column = int\n",
    "- GDP_per_capita Column = float"
   ]
  },
  {
   "cell_type": "code",
   "execution_count": 11,
   "id": "d1b8f509-e960-4c0b-b1aa-d526203738ff",
   "metadata": {},
   "outputs": [
    {
     "name": "stdout",
     "output_type": "stream",
     "text": [
      "<class 'pandas.core.frame.DataFrame'>\n",
      "RangeIndex: 7728 entries, 0 to 7727\n",
      "Data columns (total 3 columns):\n",
      " #   Column          Non-Null Count  Dtype  \n",
      "---  ------          --------------  -----  \n",
      " 0   Country         7728 non-null   object \n",
      " 1   Year            7728 non-null   int64  \n",
      " 2   GDP_per_Capita  7728 non-null   float64\n",
      "dtypes: float64(1), int64(1), object(1)\n",
      "memory usage: 181.3+ KB\n"
     ]
    }
   ],
   "source": [
    "gdp_df.info() # use the info because it produces both the amout of rows and columns and their data types."
   ]
  },
  {
   "cell_type": "markdown",
   "id": "edcc7d76-33fe-4b89-99fd-5096b86ca876",
   "metadata": {},
   "source": [
    "## 7. Display Years and Observations per year\n",
    "The observations occur between the years 1990 and 2013. The ranges from 208 to 244 and is increasing over time and varies."
   ]
  },
  {
   "cell_type": "code",
   "execution_count": 13,
   "id": "aa6c1ab1-12b6-4dcb-bfeb-03dfdebd0cb0",
   "metadata": {},
   "outputs": [
    {
     "data": {
      "text/plain": [
       "Year\n",
       "1990    208\n",
       "1991    210\n",
       "1992    213\n",
       "1993    214\n",
       "1994    216\n",
       "1995    226\n",
       "1996    226\n",
       "1997    227\n",
       "1998    227\n",
       "1999    228\n",
       "2000    236\n",
       "2001    237\n",
       "2002    238\n",
       "2003    238\n",
       "2004    239\n",
       "2005    239\n",
       "2006    240\n",
       "2007    240\n",
       "2008    242\n",
       "2009    243\n",
       "2010    243\n",
       "2011    244\n",
       "2012    242\n",
       "2013    244\n",
       "2014    243\n",
       "2015    243\n",
       "2016    242\n",
       "2017    242\n",
       "2018    242\n",
       "2019    242\n",
       "2020    241\n",
       "2021    241\n",
       "2022    232\n",
       "Name: count, dtype: int64"
      ]
     },
     "execution_count": 13,
     "metadata": {},
     "output_type": "execute_result"
    }
   ],
   "source": [
    "gdp_df['Year'].value_counts().sort_index() # the range of years and observations per year sorted from largest to smallest."
   ]
  },
  {
   "cell_type": "markdown",
   "id": "d6562726-aba8-4820-999a-583b2749b174",
   "metadata": {},
   "source": [
    "## 8. Number of Countries in Dataset - Least represented Countries \n",
    "There are 246 countries in the dataset. South Sudan, Somalia, Dijibouti, Turks and Caicos Islands, and Sint Maarten (Dutch part) have the lowest number of observations. The countries are underdeveloped, war-torn (some), and struggle to collect and produce data. It is also possible they started collecting data at a later date. "
   ]
  },
  {
   "cell_type": "code",
   "execution_count": 17,
   "id": "d111f767-1e19-4401-87a3-688f3e6404a7",
   "metadata": {
    "scrolled": true
   },
   "outputs": [
    {
     "data": {
      "text/plain": [
       "246"
      ]
     },
     "execution_count": 17,
     "metadata": {},
     "output_type": "execute_result"
    }
   ],
   "source": [
    "gdp_df.loc[:,'Country'].nunique() # I want to know how many countries are in the dataset.\n",
    "#gdp_df['Country'].value_counts().value_counts() # I could do this if I wanted too."
   ]
  },
  {
   "cell_type": "code",
   "execution_count": 18,
   "id": "598f25c4-ca9c-4c47-9df5-82a829f94378",
   "metadata": {},
   "outputs": [
    {
     "data": {
      "text/plain": [
       "Country                  \n",
       "Zimbabwe                     33\n",
       "Marshall Islands             33\n",
       "Low income                   33\n",
       "Lower middle income          33\n",
       "Luxembourg                   33\n",
       "                             ..\n",
       "Sint Maarten (Dutch part)    14\n",
       "Turks and Caicos Islands     12\n",
       "Djibouti                     10\n",
       "Somalia                      10\n",
       "South Sudan                   8\n",
       "Name: count, Length: 246, dtype: int64"
      ]
     },
     "execution_count": 18,
     "metadata": {},
     "output_type": "execute_result"
    }
   ],
   "source": [
    "gdp_df.loc[:, ['Country']].value_counts() # I want to know what countries have the lowest number of observations."
   ]
  },
  {
   "cell_type": "markdown",
   "id": "590e1941-60bd-445d-89da-9f55aa1c118e",
   "metadata": {},
   "source": [
    "## 9. Create New DataFrame named gdp_2021"
   ]
  },
  {
   "cell_type": "code",
   "execution_count": 20,
   "id": "8d343d44-3b51-4492-ba40-b84eb55fd11c",
   "metadata": {
    "scrolled": true
   },
   "outputs": [
    {
     "data": {
      "text/html": [
       "<div>\n",
       "<style scoped>\n",
       "    .dataframe tbody tr th:only-of-type {\n",
       "        vertical-align: middle;\n",
       "    }\n",
       "\n",
       "    .dataframe tbody tr th {\n",
       "        vertical-align: top;\n",
       "    }\n",
       "\n",
       "    .dataframe thead th {\n",
       "        text-align: right;\n",
       "    }\n",
       "</style>\n",
       "<table border=\"1\" class=\"dataframe\">\n",
       "  <thead>\n",
       "    <tr style=\"text-align: right;\">\n",
       "      <th></th>\n",
       "      <th>Country</th>\n",
       "      <th>Year</th>\n",
       "      <th>GDP_per_Capita</th>\n",
       "    </tr>\n",
       "  </thead>\n",
       "  <tbody>\n",
       "    <tr>\n",
       "      <th>0</th>\n",
       "      <td>Afghanistan</td>\n",
       "      <td>2021</td>\n",
       "      <td>1673.964059</td>\n",
       "    </tr>\n",
       "    <tr>\n",
       "      <th>21</th>\n",
       "      <td>Africa Eastern and Southern</td>\n",
       "      <td>2021</td>\n",
       "      <td>3858.004651</td>\n",
       "    </tr>\n",
       "  </tbody>\n",
       "</table>\n",
       "</div>"
      ],
      "text/plain": [
       "                        Country  Year  GDP_per_Capita\n",
       "0                   Afghanistan  2021     1673.964059\n",
       "21  Africa Eastern and Southern  2021     3858.004651"
      ]
     },
     "execution_count": 20,
     "metadata": {},
     "output_type": "execute_result"
    }
   ],
   "source": [
    "gdp_2021 = gdp_df.loc[gdp_df['Year'] == 2021]\n",
    "gdp_2021.head(2)"
   ]
  },
  {
   "cell_type": "markdown",
   "id": "9beedae1-683c-4929-a66f-4df0e1a95334",
   "metadata": {},
   "source": [
    "## 10. Summary Statistics for GDP_per_Capita"
   ]
  },
  {
   "cell_type": "code",
   "execution_count": 22,
   "id": "74fce8fd-6611-418e-a1ed-88ad78425276",
   "metadata": {},
   "outputs": [
    {
     "data": {
      "text/html": [
       "<div>\n",
       "<style scoped>\n",
       "    .dataframe tbody tr th:only-of-type {\n",
       "        vertical-align: middle;\n",
       "    }\n",
       "\n",
       "    .dataframe tbody tr th {\n",
       "        vertical-align: top;\n",
       "    }\n",
       "\n",
       "    .dataframe thead th {\n",
       "        text-align: right;\n",
       "    }\n",
       "</style>\n",
       "<table border=\"1\" class=\"dataframe\">\n",
       "  <thead>\n",
       "    <tr style=\"text-align: right;\">\n",
       "      <th></th>\n",
       "      <th>GDP_per_Capita</th>\n",
       "    </tr>\n",
       "  </thead>\n",
       "  <tbody>\n",
       "    <tr>\n",
       "      <th>count</th>\n",
       "      <td>241.000000</td>\n",
       "    </tr>\n",
       "    <tr>\n",
       "      <th>mean</th>\n",
       "      <td>22854.595385</td>\n",
       "    </tr>\n",
       "    <tr>\n",
       "      <th>std</th>\n",
       "      <td>23135.733081</td>\n",
       "    </tr>\n",
       "    <tr>\n",
       "      <th>min</th>\n",
       "      <td>787.942779</td>\n",
       "    </tr>\n",
       "    <tr>\n",
       "      <th>25%</th>\n",
       "      <td>5566.059537</td>\n",
       "    </tr>\n",
       "    <tr>\n",
       "      <th>50%</th>\n",
       "      <td>15177.849708</td>\n",
       "    </tr>\n",
       "    <tr>\n",
       "      <th>75%</th>\n",
       "      <td>34043.304688</td>\n",
       "    </tr>\n",
       "    <tr>\n",
       "      <th>max</th>\n",
       "      <td>131511.020155</td>\n",
       "    </tr>\n",
       "  </tbody>\n",
       "</table>\n",
       "</div>"
      ],
      "text/plain": [
       "       GDP_per_Capita\n",
       "count      241.000000\n",
       "mean     22854.595385\n",
       "std      23135.733081\n",
       "min        787.942779\n",
       "25%       5566.059537\n",
       "50%      15177.849708\n",
       "75%      34043.304688\n",
       "max     131511.020155"
      ]
     },
     "execution_count": 22,
     "metadata": {},
     "output_type": "execute_result"
    }
   ],
   "source": [
    "gdp_2021.loc[:, ['GDP_per_Capita']].describe() # std larger than mean displays skews"
   ]
  },
  {
   "cell_type": "markdown",
   "id": "d01c9f19-6467-4f42-8be8-a6b9ec64b041",
   "metadata": {},
   "source": [
    "## 11. Histogram of GDP per Capita for 2021.\n",
    "The distribution is skewed to the right. The outlier data pulls the mean to the right and is greater than the median; thus, the median is a greater representation of the middle and IQR is a greater representation of the spread. I would plot this data with a boxplot. "
   ]
  },
  {
   "cell_type": "code",
   "execution_count": 24,
   "id": "52228d18-c2ff-4dab-ba4c-ea6fc2aaa0b5",
   "metadata": {},
   "outputs": [
    {
     "data": {
      "text/plain": [
       "Text(0.5, 1.0, 'GDP_per_Capita Distribution')"
      ]
     },
     "execution_count": 24,
     "metadata": {},
     "output_type": "execute_result"
    },
    {
     "data": {
      "image/png": "[encoded data removed]",
      "text/plain": [
       "<Figure size 640x480 with 1 Axes>"
      ]
     },
     "metadata": {},
     "output_type": "display_data"
    }
   ],
   "source": [
    "gdp_2021['GDP_per_Capita'].plot(kind='hist')\n",
    "plt.xlabel('GDP_per_Capita Value')\n",
    "plt.ylabel('frequency')\n",
    "plt.title('GDP_per_Capita Distribution')"
   ]
  },
  {
   "cell_type": "code",
   "execution_count": 25,
   "id": "4817059c-6105-4e74-9e10-5772683d4671",
   "metadata": {},
   "outputs": [
    {
     "data": {
      "text/plain": [
       "Country                                       Year  GDP_per_Capita\n",
       "Afghanistan                                   2021  1673.964059       1\n",
       "Least developed countries: UN classification  2021  3352.661742       1\n",
       "Namibia                                       2021  10161.286578      1\n",
       "Nauru                                         2021  12126.588746      1\n",
       "Nepal                                         2021  4252.375175       1\n",
       "                                                                     ..\n",
       "Guyana                                        2021  24193.527521      1\n",
       "Haiti                                         2021  3179.257956       1\n",
       "Heavily indebted poor countries (HIPC)        2021  2781.359328       1\n",
       "High income                                   2021  55232.525560      1\n",
       "Zimbabwe                                      2021  2333.973632       1\n",
       "Name: count, Length: 241, dtype: int64"
      ]
     },
     "execution_count": 25,
     "metadata": {},
     "output_type": "execute_result"
    }
   ],
   "source": [
    "gdp_2021.value_counts()"
   ]
  },
  {
   "cell_type": "markdown",
   "id": "aa6d8a08-e54c-4fe7-80ee-53522a363afa",
   "metadata": {},
   "source": [
    "## 12. Top/Bottom 5 Countries in Year 2021\n",
    "The top 5 countries GDP_per_Capita are Luxembourg, Singapore, Ireland, Qatar, Bermuda, respectively. \n",
    "The lowest 5 countries GDP_per_capita are Burundi, Central African Republic, Dem. Rep. Condo, Somalia, Niger. "
   ]
  },
  {
   "cell_type": "code",
   "execution_count": 27,
   "id": "02446ca8-6109-4662-bd65-18d50175ce56",
   "metadata": {},
   "outputs": [
    {
     "data": {
      "text/html": [
       "<div>\n",
       "<style scoped>\n",
       "    .dataframe tbody tr th:only-of-type {\n",
       "        vertical-align: middle;\n",
       "    }\n",
       "\n",
       "    .dataframe tbody tr th {\n",
       "        vertical-align: top;\n",
       "    }\n",
       "\n",
       "    .dataframe thead th {\n",
       "        text-align: right;\n",
       "    }\n",
       "</style>\n",
       "<table border=\"1\" class=\"dataframe\">\n",
       "  <thead>\n",
       "    <tr style=\"text-align: right;\">\n",
       "      <th></th>\n",
       "      <th>Country</th>\n",
       "      <th>Year</th>\n",
       "      <th>GDP_per_Capita</th>\n",
       "    </tr>\n",
       "  </thead>\n",
       "  <tbody>\n",
       "    <tr>\n",
       "      <th>4166</th>\n",
       "      <td>Luxembourg</td>\n",
       "      <td>2021</td>\n",
       "      <td>131511.020155</td>\n",
       "    </tr>\n",
       "    <tr>\n",
       "      <th>6123</th>\n",
       "      <td>Singapore</td>\n",
       "      <td>2021</td>\n",
       "      <td>118887.822066</td>\n",
       "    </tr>\n",
       "    <tr>\n",
       "      <th>3297</th>\n",
       "      <td>Ireland</td>\n",
       "      <td>2021</td>\n",
       "      <td>106570.398435</td>\n",
       "    </tr>\n",
       "    <tr>\n",
       "      <th>5761</th>\n",
       "      <td>Qatar</td>\n",
       "      <td>2021</td>\n",
       "      <td>102469.967574</td>\n",
       "    </tr>\n",
       "    <tr>\n",
       "      <th>680</th>\n",
       "      <td>Bermuda</td>\n",
       "      <td>2021</td>\n",
       "      <td>86699.251991</td>\n",
       "    </tr>\n",
       "  </tbody>\n",
       "</table>\n",
       "</div>"
      ],
      "text/plain": [
       "         Country  Year  GDP_per_Capita\n",
       "4166  Luxembourg  2021   131511.020155\n",
       "6123   Singapore  2021   118887.822066\n",
       "3297     Ireland  2021   106570.398435\n",
       "5761       Qatar  2021   102469.967574\n",
       "680      Bermuda  2021    86699.251991"
      ]
     },
     "execution_count": 27,
     "metadata": {},
     "output_type": "execute_result"
    }
   ],
   "source": [
    "gdp_df.loc[gdp_df['Year'] == 2021].nlargest(5, columns='GDP_per_Capita')"
   ]
  },
  {
   "cell_type": "code",
   "execution_count": 28,
   "id": "f1897de4-2a73-4af5-a861-556e6226f73d",
   "metadata": {},
   "outputs": [
    {
     "data": {
      "text/html": [
       "<div>\n",
       "<style scoped>\n",
       "    .dataframe tbody tr th:only-of-type {\n",
       "        vertical-align: middle;\n",
       "    }\n",
       "\n",
       "    .dataframe tbody tr th {\n",
       "        vertical-align: top;\n",
       "    }\n",
       "\n",
       "    .dataframe thead th {\n",
       "        text-align: right;\n",
       "    }\n",
       "</style>\n",
       "<table border=\"1\" class=\"dataframe\">\n",
       "  <thead>\n",
       "    <tr style=\"text-align: right;\">\n",
       "      <th></th>\n",
       "      <th>Country</th>\n",
       "      <th>Year</th>\n",
       "      <th>GDP_per_Capita</th>\n",
       "    </tr>\n",
       "  </thead>\n",
       "  <tbody>\n",
       "    <tr>\n",
       "      <th>972</th>\n",
       "      <td>Burundi</td>\n",
       "      <td>2021</td>\n",
       "      <td>787.942779</td>\n",
       "    </tr>\n",
       "    <tr>\n",
       "      <th>1216</th>\n",
       "      <td>Central African Republic</td>\n",
       "      <td>2021</td>\n",
       "      <td>924.151424</td>\n",
       "    </tr>\n",
       "    <tr>\n",
       "      <th>1629</th>\n",
       "      <td>Dem. Rep. Congo</td>\n",
       "      <td>2021</td>\n",
       "      <td>1184.720486</td>\n",
       "    </tr>\n",
       "    <tr>\n",
       "      <th>6285</th>\n",
       "      <td>Somalia</td>\n",
       "      <td>2021</td>\n",
       "      <td>1254.340664</td>\n",
       "    </tr>\n",
       "    <tr>\n",
       "      <th>5089</th>\n",
       "      <td>Niger</td>\n",
       "      <td>2021</td>\n",
       "      <td>1309.337926</td>\n",
       "    </tr>\n",
       "  </tbody>\n",
       "</table>\n",
       "</div>"
      ],
      "text/plain": [
       "                       Country  Year  GDP_per_Capita\n",
       "972                    Burundi  2021      787.942779\n",
       "1216  Central African Republic  2021      924.151424\n",
       "1629           Dem. Rep. Congo  2021     1184.720486\n",
       "6285                   Somalia  2021     1254.340664\n",
       "5089                     Niger  2021     1309.337926"
      ]
     },
     "execution_count": 28,
     "metadata": {},
     "output_type": "execute_result"
    }
   ],
   "source": [
    "gdp_df.loc[gdp_df['Year'] == 2021].nsmallest(5, columns='GDP_per_Capita')"
   ]
  },
  {
   "cell_type": "markdown",
   "id": "45048382-4ac6-45f7-bde1-0fac7eb59218",
   "metadata": {},
   "source": [
    "# 13. create gdp_pivoted with years 1990 & 2021"
   ]
  },
  {
   "cell_type": "code",
   "execution_count": 30,
   "id": "baf51c2d-fd89-41dc-9cc0-37cf950b1898",
   "metadata": {},
   "outputs": [
    {
     "data": {
      "text/html": [
       "<div>\n",
       "<style scoped>\n",
       "    .dataframe tbody tr th:only-of-type {\n",
       "        vertical-align: middle;\n",
       "    }\n",
       "\n",
       "    .dataframe tbody tr th {\n",
       "        vertical-align: top;\n",
       "    }\n",
       "\n",
       "    .dataframe thead th {\n",
       "        text-align: right;\n",
       "    }\n",
       "</style>\n",
       "<table border=\"1\" class=\"dataframe\">\n",
       "  <thead>\n",
       "    <tr style=\"text-align: right;\">\n",
       "      <th>Year</th>\n",
       "      <th>1990</th>\n",
       "      <th>2021</th>\n",
       "    </tr>\n",
       "    <tr>\n",
       "      <th>Country</th>\n",
       "      <th></th>\n",
       "      <th></th>\n",
       "    </tr>\n",
       "  </thead>\n",
       "  <tbody>\n",
       "    <tr>\n",
       "      <th>Afghanistan</th>\n",
       "      <td>NaN</td>\n",
       "      <td>1673.964059</td>\n",
       "    </tr>\n",
       "    <tr>\n",
       "      <th>Africa Eastern and Southern</th>\n",
       "      <td>1815.978712</td>\n",
       "      <td>3858.004651</td>\n",
       "    </tr>\n",
       "    <tr>\n",
       "      <th>Africa Western and Central</th>\n",
       "      <td>1748.455212</td>\n",
       "      <td>4429.952133</td>\n",
       "    </tr>\n",
       "    <tr>\n",
       "      <th>Albania</th>\n",
       "      <td>2549.746801</td>\n",
       "      <td>15532.706056</td>\n",
       "    </tr>\n",
       "    <tr>\n",
       "      <th>Algeria</th>\n",
       "      <td>6974.076379</td>\n",
       "      <td>12170.193777</td>\n",
       "    </tr>\n",
       "  </tbody>\n",
       "</table>\n",
       "</div>"
      ],
      "text/plain": [
       "Year                                1990          2021\n",
       "Country                                               \n",
       "Afghanistan                          NaN   1673.964059\n",
       "Africa Eastern and Southern  1815.978712   3858.004651\n",
       "Africa Western and Central   1748.455212   4429.952133\n",
       "Albania                      2549.746801  15532.706056\n",
       "Algeria                      6974.076379  12170.193777"
      ]
     },
     "execution_count": 30,
     "metadata": {},
     "output_type": "execute_result"
    }
   ],
   "source": [
    "gdp_pivoted = gdp_df.loc[(gdp_df['Year'] == 1990) | (gdp_df['Year'] == 2021)].pivot_table(index='Country', columns='Year', values='GDP_per_Capita', dropna=True) \n",
    "gdp_pivoted.head(5)"
   ]
  },
  {
   "cell_type": "markdown",
   "id": "d549a98f-5f82-4f95-97d4-92266526751d",
   "metadata": {},
   "source": [
    "# 14. Create new Percent Chang Column"
   ]
  },
  {
   "cell_type": "code",
   "execution_count": 32,
   "id": "183c3a4f-993c-42e6-a051-ea073a661a66",
   "metadata": {},
   "outputs": [],
   "source": [
    "gdp_pivoted['Percent_Change'] = ((gdp_pivoted.loc[:, 2021] - gdp_pivoted.loc[:, 1990])/(gdp_pivoted.loc[:, 1990]))*100"
   ]
  },
  {
   "cell_type": "markdown",
   "id": "c19b29a6-fecb-47af-a10b-60c0955dede6",
   "metadata": {},
   "source": [
    "## 15. Negative % increase in countrys gdp\n",
    "One country had a negative percent change, United Arab Emirates."
   ]
  },
  {
   "cell_type": "code",
   "execution_count": 34,
   "id": "b269057c-1aa4-4be2-bf80-97f7e81c7ec6",
   "metadata": {},
   "outputs": [
    {
     "data": {
      "text/html": [
       "<div>\n",
       "<style scoped>\n",
       "    .dataframe tbody tr th:only-of-type {\n",
       "        vertical-align: middle;\n",
       "    }\n",
       "\n",
       "    .dataframe tbody tr th {\n",
       "        vertical-align: top;\n",
       "    }\n",
       "\n",
       "    .dataframe thead th {\n",
       "        text-align: right;\n",
       "    }\n",
       "</style>\n",
       "<table border=\"1\" class=\"dataframe\">\n",
       "  <thead>\n",
       "    <tr style=\"text-align: right;\">\n",
       "      <th>Year</th>\n",
       "      <th>1990</th>\n",
       "      <th>2021</th>\n",
       "      <th>Percent_Change</th>\n",
       "    </tr>\n",
       "    <tr>\n",
       "      <th>Country</th>\n",
       "      <th></th>\n",
       "      <th></th>\n",
       "      <th></th>\n",
       "    </tr>\n",
       "  </thead>\n",
       "  <tbody>\n",
       "    <tr>\n",
       "      <th>United Arab Emirates</th>\n",
       "      <td>83843.224678</td>\n",
       "      <td>76948.327496</td>\n",
       "      <td>-8.223559</td>\n",
       "    </tr>\n",
       "  </tbody>\n",
       "</table>\n",
       "</div>"
      ],
      "text/plain": [
       "Year                          1990          2021  Percent_Change\n",
       "Country                                                         \n",
       "United Arab Emirates  83843.224678  76948.327496       -8.223559"
      ]
     },
     "execution_count": 34,
     "metadata": {},
     "output_type": "execute_result"
    }
   ],
   "source": [
    "gdp_pivoted[gdp_pivoted['Percent_Change'] < 0]"
   ]
  },
  {
   "cell_type": "markdown",
   "id": "eaaae47b-3d9a-43a5-ad99-251806709a83",
   "metadata": {},
   "source": [
    "# 16. Country with highest percent change in GDP_per_Capita\n",
    "The country with the highest percentage is Equatorial Guinea. "
   ]
  },
  {
   "cell_type": "code",
   "execution_count": 36,
   "id": "dc229001-b0a2-4265-a8aa-511cfe8ecd6d",
   "metadata": {},
   "outputs": [
    {
     "data": {
      "text/html": [
       "<div>\n",
       "<style scoped>\n",
       "    .dataframe tbody tr th:only-of-type {\n",
       "        vertical-align: middle;\n",
       "    }\n",
       "\n",
       "    .dataframe tbody tr th {\n",
       "        vertical-align: top;\n",
       "    }\n",
       "\n",
       "    .dataframe thead th {\n",
       "        text-align: right;\n",
       "    }\n",
       "</style>\n",
       "<table border=\"1\" class=\"dataframe\">\n",
       "  <thead>\n",
       "    <tr style=\"text-align: right;\">\n",
       "      <th>Year</th>\n",
       "      <th>1990</th>\n",
       "      <th>2021</th>\n",
       "      <th>Percent_Change</th>\n",
       "    </tr>\n",
       "    <tr>\n",
       "      <th>Country</th>\n",
       "      <th></th>\n",
       "      <th></th>\n",
       "      <th></th>\n",
       "    </tr>\n",
       "  </thead>\n",
       "  <tbody>\n",
       "    <tr>\n",
       "      <th>Equatorial Guinea</th>\n",
       "      <td>588.162695</td>\n",
       "      <td>16151.325981</td>\n",
       "      <td>2646.064333</td>\n",
       "    </tr>\n",
       "    <tr>\n",
       "      <th>China</th>\n",
       "      <td>981.419207</td>\n",
       "      <td>19484.308087</td>\n",
       "      <td>1885.319621</td>\n",
       "    </tr>\n",
       "    <tr>\n",
       "      <th>East Asia &amp; Pacific (excluding high income)</th>\n",
       "      <td>1457.452848</td>\n",
       "      <td>17010.302388</td>\n",
       "      <td>1067.125401</td>\n",
       "    </tr>\n",
       "    <tr>\n",
       "      <th>East Asia &amp; Pacific (IDA &amp; IBRD)</th>\n",
       "      <td>1474.778980</td>\n",
       "      <td>17199.271469</td>\n",
       "      <td>1066.227055</td>\n",
       "    </tr>\n",
       "    <tr>\n",
       "      <th>Myanmar</th>\n",
       "      <td>412.416766</td>\n",
       "      <td>4449.833898</td>\n",
       "      <td>978.965325</td>\n",
       "    </tr>\n",
       "    <tr>\n",
       "      <th>...</th>\n",
       "      <td>...</td>\n",
       "      <td>...</td>\n",
       "      <td>...</td>\n",
       "    </tr>\n",
       "    <tr>\n",
       "      <th>Turkmenistan</th>\n",
       "      <td>5377.655859</td>\n",
       "      <td>NaN</td>\n",
       "      <td>NaN</td>\n",
       "    </tr>\n",
       "    <tr>\n",
       "      <th>Turks and Caicos Islands</th>\n",
       "      <td>NaN</td>\n",
       "      <td>21803.145403</td>\n",
       "      <td>NaN</td>\n",
       "    </tr>\n",
       "    <tr>\n",
       "      <th>Venezuela</th>\n",
       "      <td>9533.132896</td>\n",
       "      <td>NaN</td>\n",
       "      <td>NaN</td>\n",
       "    </tr>\n",
       "    <tr>\n",
       "      <th>West Bank and Gaza</th>\n",
       "      <td>NaN</td>\n",
       "      <td>6224.656776</td>\n",
       "      <td>NaN</td>\n",
       "    </tr>\n",
       "    <tr>\n",
       "      <th>Yemen</th>\n",
       "      <td>1809.109912</td>\n",
       "      <td>NaN</td>\n",
       "      <td>NaN</td>\n",
       "    </tr>\n",
       "  </tbody>\n",
       "</table>\n",
       "<p>244 rows × 3 columns</p>\n",
       "</div>"
      ],
      "text/plain": [
       "Year                                                1990          2021  \\\n",
       "Country                                                                  \n",
       "Equatorial Guinea                             588.162695  16151.325981   \n",
       "China                                         981.419207  19484.308087   \n",
       "East Asia & Pacific (excluding high income)  1457.452848  17010.302388   \n",
       "East Asia & Pacific (IDA & IBRD)             1474.778980  17199.271469   \n",
       "Myanmar                                       412.416766   4449.833898   \n",
       "...                                                  ...           ...   \n",
       "Turkmenistan                                 5377.655859           NaN   \n",
       "Turks and Caicos Islands                             NaN  21803.145403   \n",
       "Venezuela                                    9533.132896           NaN   \n",
       "West Bank and Gaza                                   NaN   6224.656776   \n",
       "Yemen                                        1809.109912           NaN   \n",
       "\n",
       "Year                                         Percent_Change  \n",
       "Country                                                      \n",
       "Equatorial Guinea                               2646.064333  \n",
       "China                                           1885.319621  \n",
       "East Asia & Pacific (excluding high income)     1067.125401  \n",
       "East Asia & Pacific (IDA & IBRD)                1066.227055  \n",
       "Myanmar                                          978.965325  \n",
       "...                                                     ...  \n",
       "Turkmenistan                                            NaN  \n",
       "Turks and Caicos Islands                                NaN  \n",
       "Venezuela                                               NaN  \n",
       "West Bank and Gaza                                      NaN  \n",
       "Yemen                                                   NaN  \n",
       "\n",
       "[244 rows x 3 columns]"
      ]
     },
     "execution_count": 36,
     "metadata": {},
     "output_type": "execute_result"
    }
   ],
   "source": [
    "#gdp_pivoted.loc[:, ['Percent_Change']].sort_values(ascending=False)\n",
    "gdp_pivoted.sort_values(by='Percent_Change', ascending=False)"
   ]
  },
  {
   "cell_type": "markdown",
   "id": "3ee6508e-1173-495d-a023-20768aa6bac2",
   "metadata": {},
   "source": [
    "### 16.1  Countries with 1st & 2nd Highest percentage increase Line Plot\n",
    "Equatorial Guinea had a faster and more volatile rise in GDP per Capita than China. They've recently experienced a down trend. "
   ]
  },
  {
   "cell_type": "code",
   "execution_count": 38,
   "id": "cb84fecb-8fd2-47a7-b752-94862dc89d0f",
   "metadata": {},
   "outputs": [
    {
     "data": {
      "text/plain": [
       "<matplotlib.legend.Legend at 0x245c2b97590>"
      ]
     },
     "execution_count": 38,
     "metadata": {},
     "output_type": "execute_result"
    },
    {
     "data": {
      "image/png": "[encoded data removed]",
      "text/plain": [
       "<Figure size 640x480 with 1 Axes>"
      ]
     },
     "metadata": {},
     "output_type": "display_data"
    }
   ],
   "source": [
    "equatorialguinea_GDP_percap = gdp_df[gdp_df['Country'] == 'Equatorial Guinea'].pivot_table(index='Year', columns='Country', values='GDP_per_Capita') # I needed to subset the Equatorial Guinea data and pivot it in order to slice from years 1990:2018.\n",
    "china_GDP_percap = gdp_df[gdp_df['Country'] == 'China'].pivot_table(index='Year', columns='Country', values='GDP_per_Capita')\n",
    "\n",
    "equatorialGuinea_GDP_percap_1990to2018 = equatorialguinea_GDP_percap.loc['1990':'2018']\n",
    "china_GDP_percap_1990to2018 = china_GDP_percap.loc['1990':'2018']\n",
    "plt.plot(equatorialGuinea_GDP_percap_1990to2018, label='Equatorial Guinea GDP_PerCap')\n",
    "plt.plot(china_GDP_percap_1990to2018, label='China GDP_Percap')\n",
    "plt.legend()"
   ]
  },
  {
   "cell_type": "markdown",
   "id": "1a47ccd0-a5ae-431c-9e02-525df6b8e963",
   "metadata": {},
   "source": [
    "## 17. Read in Continents "
   ]
  },
  {
   "cell_type": "code",
   "execution_count": 40,
   "id": "66f088a8-b604-4496-a16c-e76683bcf447",
   "metadata": {},
   "outputs": [
    {
     "data": {
      "text/html": [
       "<div>\n",
       "<style scoped>\n",
       "    .dataframe tbody tr th:only-of-type {\n",
       "        vertical-align: middle;\n",
       "    }\n",
       "\n",
       "    .dataframe tbody tr th {\n",
       "        vertical-align: top;\n",
       "    }\n",
       "\n",
       "    .dataframe thead th {\n",
       "        text-align: right;\n",
       "    }\n",
       "</style>\n",
       "<table border=\"1\" class=\"dataframe\">\n",
       "  <thead>\n",
       "    <tr style=\"text-align: right;\">\n",
       "      <th></th>\n",
       "      <th>Continent</th>\n",
       "      <th>Country</th>\n",
       "    </tr>\n",
       "  </thead>\n",
       "  <tbody>\n",
       "    <tr>\n",
       "      <th>0</th>\n",
       "      <td>Asia</td>\n",
       "      <td>Afghanistan</td>\n",
       "    </tr>\n",
       "    <tr>\n",
       "      <th>1</th>\n",
       "      <td>Europe</td>\n",
       "      <td>Albania</td>\n",
       "    </tr>\n",
       "    <tr>\n",
       "      <th>2</th>\n",
       "      <td>Africa</td>\n",
       "      <td>Algeria</td>\n",
       "    </tr>\n",
       "    <tr>\n",
       "      <th>3</th>\n",
       "      <td>Europe</td>\n",
       "      <td>Andorra</td>\n",
       "    </tr>\n",
       "    <tr>\n",
       "      <th>4</th>\n",
       "      <td>Africa</td>\n",
       "      <td>Angola</td>\n",
       "    </tr>\n",
       "  </tbody>\n",
       "</table>\n",
       "</div>"
      ],
      "text/plain": [
       "  Continent      Country\n",
       "0      Asia  Afghanistan\n",
       "1    Europe      Albania\n",
       "2    Africa      Algeria\n",
       "3    Europe      Andorra\n",
       "4    Africa       Angola"
      ]
     },
     "execution_count": 40,
     "metadata": {},
     "output_type": "execute_result"
    }
   ],
   "source": [
    "continents = pd.read_csv('../data/continents.csv')\n",
    "continents.head(5)"
   ]
  },
  {
   "cell_type": "code",
   "execution_count": 41,
   "id": "1b91ad2e-c90a-4885-850b-f73080fa6cfb",
   "metadata": {},
   "outputs": [
    {
     "data": {
      "text/html": [
       "<div>\n",
       "<style scoped>\n",
       "    .dataframe tbody tr th:only-of-type {\n",
       "        vertical-align: middle;\n",
       "    }\n",
       "\n",
       "    .dataframe tbody tr th {\n",
       "        vertical-align: top;\n",
       "    }\n",
       "\n",
       "    .dataframe thead th {\n",
       "        text-align: right;\n",
       "    }\n",
       "</style>\n",
       "<table border=\"1\" class=\"dataframe\">\n",
       "  <thead>\n",
       "    <tr style=\"text-align: right;\">\n",
       "      <th></th>\n",
       "      <th>Country</th>\n",
       "      <th>Year</th>\n",
       "      <th>GDP_per_Capita</th>\n",
       "    </tr>\n",
       "  </thead>\n",
       "  <tbody>\n",
       "    <tr>\n",
       "      <th>0</th>\n",
       "      <td>Afghanistan</td>\n",
       "      <td>2021</td>\n",
       "      <td>1673.964059</td>\n",
       "    </tr>\n",
       "    <tr>\n",
       "      <th>1</th>\n",
       "      <td>Afghanistan</td>\n",
       "      <td>2020</td>\n",
       "      <td>2078.595086</td>\n",
       "    </tr>\n",
       "    <tr>\n",
       "      <th>2</th>\n",
       "      <td>Afghanistan</td>\n",
       "      <td>2019</td>\n",
       "      <td>2168.133765</td>\n",
       "    </tr>\n",
       "    <tr>\n",
       "      <th>3</th>\n",
       "      <td>Afghanistan</td>\n",
       "      <td>2018</td>\n",
       "      <td>2110.239384</td>\n",
       "    </tr>\n",
       "    <tr>\n",
       "      <th>4</th>\n",
       "      <td>Afghanistan</td>\n",
       "      <td>2017</td>\n",
       "      <td>2096.093111</td>\n",
       "    </tr>\n",
       "  </tbody>\n",
       "</table>\n",
       "</div>"
      ],
      "text/plain": [
       "       Country  Year  GDP_per_Capita\n",
       "0  Afghanistan  2021     1673.964059\n",
       "1  Afghanistan  2020     2078.595086\n",
       "2  Afghanistan  2019     2168.133765\n",
       "3  Afghanistan  2018     2110.239384\n",
       "4  Afghanistan  2017     2096.093111"
      ]
     },
     "execution_count": 41,
     "metadata": {},
     "output_type": "execute_result"
    }
   ],
   "source": [
    "gdp_df.head(5)"
   ]
  },
  {
   "cell_type": "markdown",
   "id": "31423b5c-c595-4bbb-864a-e59ab85bb6c6",
   "metadata": {},
   "source": [
    "## 18. Merge Continents and gdp_df keeping only countries that appear in both dataframes"
   ]
  },
  {
   "cell_type": "code",
   "execution_count": 143,
   "id": "88a4dcc9-c4fa-457c-beae-fe4f89eb80e3",
   "metadata": {},
   "outputs": [],
   "source": [
    "gdp_df = pd.merge(continents, gdp_df, how='inner') #I want to keep only the countries that appear in both dataframes - why I used the inner argument. "
   ]
  },
  {
   "cell_type": "markdown",
   "id": "e79265b7-c7c5-4546-883a-db4999164bff",
   "metadata": {},
   "source": [
    "## 19.  Determine the number of Countries per Continent"
   ]
  },
  {
   "cell_type": "code",
   "execution_count": 145,
   "id": "68454e26-0615-469b-a8f9-87cccbcc2bed",
   "metadata": {},
   "outputs": [
    {
     "data": {
      "text/plain": [
       "<Axes: title={'center': 'Number of Countries per Continent'}, xlabel='Continent'>"
      ]
     },
     "execution_count": 145,
     "metadata": {},
     "output_type": "execute_result"
    },
    {
     "data": {
      "image/png": "[encoded data removed]",
      "text/plain": [
       "<Figure size 640x480 with 1 Axes>"
      ]
     },
     "metadata": {},
     "output_type": "display_data"
    }
   ],
   "source": [
    "gdp_df[['Continent']].value_counts().plot(kind='bar', title='Number of Countries per Continent') # I want the number of countries per continent"
   ]
  },
  {
   "cell_type": "markdown",
   "id": "750b9abe-4ace-4df9-a174-d350b2c86d21",
   "metadata": {},
   "source": [
    "## 20. Create a seaborn boxplot showing GDP per capita in 2021 split out by continent. What do you notice?"
   ]
  },
  {
   "cell_type": "code",
   "execution_count": 223,
   "id": "c62ddfb2-0e1d-4e3f-abfd-59f18029eb86",
   "metadata": {},
   "outputs": [
    {
     "data": {
      "text/plain": [
       "<Axes: xlabel='Continent', ylabel='GDP_per_Capita'>"
      ]
     },
     "execution_count": 223,
     "metadata": {},
     "output_type": "execute_result"
    },
    {
     "data": {
      "image/png": "[encoded data removed]",
      "text/plain": [
       "<Figure size 640x480 with 1 Axes>"
      ]
     },
     "metadata": {},
     "output_type": "display_data"
    }
   ],
   "source": [
    "sns.boxplot(x='Continent', y='GDP_per_Capita', data=gdp_df[gdp_df['Year'] == 2021])"
   ]
  },
  {
   "cell_type": "code",
   "execution_count": null,
   "id": "b5b080ff-e1ee-469c-bb8a-26d693fb6a75",
   "metadata": {},
   "outputs": [],
   "source": []
  }
 ],
 "metadata": {
  "kernelspec": {
   "display_name": "Python 3 (ipykernel)",
   "language": "python",
   "name": "python3"
  },
  "language_info": {
   "codemirror_mode": {
    "name": "ipython",
    "version": 3
   },
   "file_extension": ".py",
   "mimetype": "text/x-python",
   "name": "python",
   "nbconvert_exporter": "python",
   "pygments_lexer": "ipython3",
   "version": "3.12.4"
  }
 },
 "nbformat": 4,
 "nbformat_minor": 5
}
