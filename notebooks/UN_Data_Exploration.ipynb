{
 "cells": [
  {
   "cell_type": "markdown",
   "id": "4342f0c9-13cf-4c1b-a2f8-f7b1916aad01",
   "metadata": {},
   "source": [
    "# UN Data Exploration"
   ]
  },
  {
   "cell_type": "markdown",
   "id": "fa6422df-969e-49c8-84dc-a6a6248a6b2d",
   "metadata": {},
   "source": [
    "### 3. Import the required packages with their customary aliases as follows:"
   ]
  },
  {
   "cell_type": "code",
   "execution_count": 3,
   "id": "28269ade-86b3-4f1c-a155-879b1d495e7a",
   "metadata": {},
   "outputs": [],
   "source": [
    "import pandas as pd \n",
    "import numpy as np\n",
    "import matplotlib.pyplot as plt\n",
    "import seaborn as sns"
   ]
  },
  {
   "cell_type": "markdown",
   "id": "522f118f-63c0-48b7-a7e6-de5aecdf92ae",
   "metadata": {},
   "source": [
    "### 4/5. Using the pandas `read_csv()` function, read the GDP dataset into your notebook as a DataFrame called `gdp_df`. After reading it in, inspect the first 10 rows and then inspect the last 10 rows.  Drop the 'Value Footnotes' column, and rename the remaining columns to 'Country', 'Year', and 'GDP_Per_Capita'."
   ]
  },
  {
   "cell_type": "code",
   "execution_count": 5,
   "id": "bfcfee2d-bc84-4981-8f5e-fefd72bab618",
   "metadata": {},
   "outputs": [],
   "source": [
    "gdp_df = (\n",
    "    pd.read_csv('../data/UNdata_Export_20241016_021042778.csv') \n",
    "    .drop(columns = 'Value Footnotes') \n",
    "    .rename(columns={'Country or Area': 'Country', 'Value': 'GDP_per_Capita'}) \n",
    ")"
   ]
  },
  {
   "cell_type": "code",
   "execution_count": 6,
   "id": "c9b57ca3-9e58-4d1f-96e2-d9f551bf8764",
   "metadata": {},
   "outputs": [
    {
     "data": {
      "text/html": [
       "<div>\n",
       "<style scoped>\n",
       "    .dataframe tbody tr th:only-of-type {\n",
       "        vertical-align: middle;\n",
       "    }\n",
       "\n",
       "    .dataframe tbody tr th {\n",
       "        vertical-align: top;\n",
       "    }\n",
       "\n",
       "    .dataframe thead th {\n",
       "        text-align: right;\n",
       "    }\n",
       "</style>\n",
       "<table border=\"1\" class=\"dataframe\">\n",
       "  <thead>\n",
       "    <tr style=\"text-align: right;\">\n",
       "      <th></th>\n",
       "      <th>Country</th>\n",
       "      <th>Year</th>\n",
       "      <th>GDP_per_Capita</th>\n",
       "    </tr>\n",
       "  </thead>\n",
       "  <tbody>\n",
       "    <tr>\n",
       "      <th>0</th>\n",
       "      <td>Afghanistan</td>\n",
       "      <td>2021</td>\n",
       "      <td>1517.016266</td>\n",
       "    </tr>\n",
       "    <tr>\n",
       "      <th>1</th>\n",
       "      <td>Afghanistan</td>\n",
       "      <td>2020</td>\n",
       "      <td>1968.341002</td>\n",
       "    </tr>\n",
       "    <tr>\n",
       "      <th>2</th>\n",
       "      <td>Afghanistan</td>\n",
       "      <td>2019</td>\n",
       "      <td>2079.921861</td>\n",
       "    </tr>\n",
       "    <tr>\n",
       "      <th>3</th>\n",
       "      <td>Afghanistan</td>\n",
       "      <td>2018</td>\n",
       "      <td>2060.698973</td>\n",
       "    </tr>\n",
       "    <tr>\n",
       "      <th>4</th>\n",
       "      <td>Afghanistan</td>\n",
       "      <td>2017</td>\n",
       "      <td>2096.093111</td>\n",
       "    </tr>\n",
       "    <tr>\n",
       "      <th>5</th>\n",
       "      <td>Afghanistan</td>\n",
       "      <td>2016</td>\n",
       "      <td>2101.422187</td>\n",
       "    </tr>\n",
       "    <tr>\n",
       "      <th>6</th>\n",
       "      <td>Afghanistan</td>\n",
       "      <td>2015</td>\n",
       "      <td>2108.714173</td>\n",
       "    </tr>\n",
       "    <tr>\n",
       "      <th>7</th>\n",
       "      <td>Afghanistan</td>\n",
       "      <td>2014</td>\n",
       "      <td>2144.449634</td>\n",
       "    </tr>\n",
       "    <tr>\n",
       "      <th>8</th>\n",
       "      <td>Afghanistan</td>\n",
       "      <td>2013</td>\n",
       "      <td>2165.340915</td>\n",
       "    </tr>\n",
       "    <tr>\n",
       "      <th>9</th>\n",
       "      <td>Afghanistan</td>\n",
       "      <td>2012</td>\n",
       "      <td>2122.830759</td>\n",
       "    </tr>\n",
       "  </tbody>\n",
       "</table>\n",
       "</div>"
      ],
      "text/plain": [
       "       Country  Year  GDP_per_Capita\n",
       "0  Afghanistan  2021     1517.016266\n",
       "1  Afghanistan  2020     1968.341002\n",
       "2  Afghanistan  2019     2079.921861\n",
       "3  Afghanistan  2018     2060.698973\n",
       "4  Afghanistan  2017     2096.093111\n",
       "5  Afghanistan  2016     2101.422187\n",
       "6  Afghanistan  2015     2108.714173\n",
       "7  Afghanistan  2014     2144.449634\n",
       "8  Afghanistan  2013     2165.340915\n",
       "9  Afghanistan  2012     2122.830759"
      ]
     },
     "execution_count": 6,
     "metadata": {},
     "output_type": "execute_result"
    }
   ],
   "source": [
    "gdp_df.head(10)"
   ]
  },
  {
   "cell_type": "code",
   "execution_count": 7,
   "id": "dbd9069b-1b4a-48c6-a6a6-1bb9fb182587",
   "metadata": {},
   "outputs": [
    {
     "data": {
      "text/html": [
       "<div>\n",
       "<style scoped>\n",
       "    .dataframe tbody tr th:only-of-type {\n",
       "        vertical-align: middle;\n",
       "    }\n",
       "\n",
       "    .dataframe tbody tr th {\n",
       "        vertical-align: top;\n",
       "    }\n",
       "\n",
       "    .dataframe thead th {\n",
       "        text-align: right;\n",
       "    }\n",
       "</style>\n",
       "<table border=\"1\" class=\"dataframe\">\n",
       "  <thead>\n",
       "    <tr style=\"text-align: right;\">\n",
       "      <th></th>\n",
       "      <th>Country</th>\n",
       "      <th>Year</th>\n",
       "      <th>GDP_per_Capita</th>\n",
       "    </tr>\n",
       "  </thead>\n",
       "  <tbody>\n",
       "    <tr>\n",
       "      <th>0</th>\n",
       "      <td>Afghanistan</td>\n",
       "      <td>2021</td>\n",
       "      <td>1517.016266</td>\n",
       "    </tr>\n",
       "    <tr>\n",
       "      <th>1</th>\n",
       "      <td>Afghanistan</td>\n",
       "      <td>2020</td>\n",
       "      <td>1968.341002</td>\n",
       "    </tr>\n",
       "    <tr>\n",
       "      <th>2</th>\n",
       "      <td>Afghanistan</td>\n",
       "      <td>2019</td>\n",
       "      <td>2079.921861</td>\n",
       "    </tr>\n",
       "    <tr>\n",
       "      <th>3</th>\n",
       "      <td>Afghanistan</td>\n",
       "      <td>2018</td>\n",
       "      <td>2060.698973</td>\n",
       "    </tr>\n",
       "    <tr>\n",
       "      <th>4</th>\n",
       "      <td>Afghanistan</td>\n",
       "      <td>2017</td>\n",
       "      <td>2096.093111</td>\n",
       "    </tr>\n",
       "    <tr>\n",
       "      <th>5</th>\n",
       "      <td>Afghanistan</td>\n",
       "      <td>2016</td>\n",
       "      <td>2101.422187</td>\n",
       "    </tr>\n",
       "    <tr>\n",
       "      <th>6</th>\n",
       "      <td>Afghanistan</td>\n",
       "      <td>2015</td>\n",
       "      <td>2108.714173</td>\n",
       "    </tr>\n",
       "    <tr>\n",
       "      <th>7</th>\n",
       "      <td>Afghanistan</td>\n",
       "      <td>2014</td>\n",
       "      <td>2144.449634</td>\n",
       "    </tr>\n",
       "    <tr>\n",
       "      <th>8</th>\n",
       "      <td>Afghanistan</td>\n",
       "      <td>2013</td>\n",
       "      <td>2165.340915</td>\n",
       "    </tr>\n",
       "    <tr>\n",
       "      <th>9</th>\n",
       "      <td>Afghanistan</td>\n",
       "      <td>2012</td>\n",
       "      <td>2122.830759</td>\n",
       "    </tr>\n",
       "  </tbody>\n",
       "</table>\n",
       "</div>"
      ],
      "text/plain": [
       "       Country  Year  GDP_per_Capita\n",
       "0  Afghanistan  2021     1517.016266\n",
       "1  Afghanistan  2020     1968.341002\n",
       "2  Afghanistan  2019     2079.921861\n",
       "3  Afghanistan  2018     2060.698973\n",
       "4  Afghanistan  2017     2096.093111\n",
       "5  Afghanistan  2016     2101.422187\n",
       "6  Afghanistan  2015     2108.714173\n",
       "7  Afghanistan  2014     2144.449634\n",
       "8  Afghanistan  2013     2165.340915\n",
       "9  Afghanistan  2012     2122.830759"
      ]
     },
     "execution_count": 7,
     "metadata": {},
     "output_type": "execute_result"
    }
   ],
   "source": [
    "gdp_df.head(10)"
   ]
  },
  {
   "cell_type": "markdown",
   "id": "df0ac419-c860-4510-b9f0-c13967bc303a",
   "metadata": {},
   "source": [
    "### 6. How many rows and columns does gdp_df have? What are the data types of its columns? If any of the columns are not the expected types, figure out why and fix it."
   ]
  },
  {
   "cell_type": "code",
   "execution_count": 9,
   "id": "d1b8f509-e960-4c0b-b1aa-d526203738ff",
   "metadata": {},
   "outputs": [
    {
     "name": "stdout",
     "output_type": "stream",
     "text": [
      "<class 'pandas.core.frame.DataFrame'>\n",
      "RangeIndex: 7662 entries, 0 to 7661\n",
      "Data columns (total 3 columns):\n",
      " #   Column          Non-Null Count  Dtype  \n",
      "---  ------          --------------  -----  \n",
      " 0   Country         7662 non-null   object \n",
      " 1   Year            7662 non-null   int64  \n",
      " 2   GDP_per_Capita  7662 non-null   float64\n",
      "dtypes: float64(1), int64(1), object(1)\n",
      "memory usage: 179.7+ KB\n"
     ]
    }
   ],
   "source": [
    "gdp_df.info() "
   ]
  },
  {
   "cell_type": "markdown",
   "id": "beba3bd6-9c00-4fc7-80cc-0df9e1d626c0",
   "metadata": {},
   "source": [
    "We have 7662 rows and 3 columns. \n",
    "- Country Column = object,\n",
    "- Year Column = int\n",
    "- GDP_per_capita Column = float"
   ]
  },
  {
   "cell_type": "markdown",
   "id": "edcc7d76-33fe-4b89-99fd-5096b86ca876",
   "metadata": {},
   "source": [
    "### 7. Which years are represented in this dataset? Take a look at the number of observations per year. What do you notice?"
   ]
  },
  {
   "cell_type": "code",
   "execution_count": 12,
   "id": "aa6c1ab1-12b6-4dcb-bfeb-03dfdebd0cb0",
   "metadata": {},
   "outputs": [
    {
     "data": {
      "text/plain": [
       "Year\n",
       "1990    207\n",
       "1991    208\n",
       "1992    210\n",
       "1993    211\n",
       "1994    213\n",
       "1995    223\n",
       "1996    223\n",
       "1997    226\n",
       "1998    226\n",
       "1999    227\n",
       "2000    233\n",
       "2001    234\n",
       "2002    235\n",
       "2003    235\n",
       "2004    236\n",
       "2005    236\n",
       "2006    237\n",
       "2007    237\n",
       "2008    238\n",
       "2009    239\n",
       "2010    239\n",
       "2011    240\n",
       "2012    240\n",
       "2013    242\n",
       "2014    242\n",
       "2015    242\n",
       "2016    242\n",
       "2017    242\n",
       "2018    242\n",
       "2019    242\n",
       "2020    242\n",
       "2021    241\n",
       "2022    232\n",
       "Name: count, dtype: int64"
      ]
     },
     "execution_count": 12,
     "metadata": {},
     "output_type": "execute_result"
    }
   ],
   "source": [
    "gdp_df['Year'].value_counts().sort_index()"
   ]
  },
  {
   "cell_type": "markdown",
   "id": "b1214c30-507a-44e3-a4e1-0d96bd81f655",
   "metadata": {},
   "source": [
    "The observations occur between the years 1990 and 2013. The ranges from 207 to 232 and is increasing over time and varies."
   ]
  },
  {
   "cell_type": "markdown",
   "id": "d6562726-aba8-4820-999a-583b2749b174",
   "metadata": {},
   "source": [
    "### 8. How many countries are represented in this dataset? Which countries are least represented in the dataset? Why do you think these countries have so few observations?"
   ]
  },
  {
   "cell_type": "code",
   "execution_count": 15,
   "id": "d111f767-1e19-4401-87a3-688f3e6404a7",
   "metadata": {
    "scrolled": true
   },
   "outputs": [
    {
     "data": {
      "text/plain": [
       "242"
      ]
     },
     "execution_count": 15,
     "metadata": {},
     "output_type": "execute_result"
    }
   ],
   "source": [
    "gdp_df.loc[:,'Country'].nunique()"
   ]
  },
  {
   "cell_type": "code",
   "execution_count": 16,
   "id": "598f25c4-ca9c-4c47-9df5-82a829f94378",
   "metadata": {},
   "outputs": [
    {
     "data": {
      "text/plain": [
       "Country                                           \n",
       "Least developed countries: UN classification          33\n",
       "Middle East & North Africa                            33\n",
       "Middle East & North Africa (excluding high income)    33\n",
       "Middle income                                         33\n",
       "Mongolia                                              33\n",
       "                                                      ..\n",
       "Kosovo                                                15\n",
       "Sint Maarten (Dutch part)                             14\n",
       "Turks and Caicos Islands                              12\n",
       "Somalia                                               10\n",
       "Djibouti                                              10\n",
       "Name: count, Length: 242, dtype: int64"
      ]
     },
     "execution_count": 16,
     "metadata": {},
     "output_type": "execute_result"
    }
   ],
   "source": [
    "gdp_df.loc[:, ['Country']].value_counts()"
   ]
  },
  {
   "cell_type": "markdown",
   "id": "9cfc0a2f-f533-4ade-a92d-8237b46849e6",
   "metadata": {},
   "source": [
    "There are 242 countries in the dataset. Kosovo, Sint Maarten (Dutch part), Turks and Caicos Islands, Turks Somalia, and Djibouti have the lowest number of observations. The countries are underdeveloped, war-torn (some), and struggle to collect and produce data. It is also possible they started collecting data at a later date. "
   ]
  },
  {
   "cell_type": "markdown",
   "id": "590e1941-60bd-445d-89da-9f55aa1c118e",
   "metadata": {},
   "source": [
    "### 9. Create a new dataframe by subsetting `gdp_df` to just the year 2021. Call this new dataframe `gdp_20121`."
   ]
  },
  {
   "cell_type": "code",
   "execution_count": 19,
   "id": "8d343d44-3b51-4492-ba40-b84eb55fd11c",
   "metadata": {
    "scrolled": true
   },
   "outputs": [],
   "source": [
    "gdp_2021 = gdp_df.loc[gdp_df['Year'] == 2021]"
   ]
  },
  {
   "cell_type": "markdown",
   "id": "9beedae1-683c-4929-a66f-4df0e1a95334",
   "metadata": {},
   "source": [
    "### 10. Use `.describe()` to find the summary statistics for GDP per capita in 2021. "
   ]
  },
  {
   "cell_type": "code",
   "execution_count": 21,
   "id": "74fce8fd-6611-418e-a1ed-88ad78425276",
   "metadata": {},
   "outputs": [
    {
     "data": {
      "text/html": [
       "<div>\n",
       "<style scoped>\n",
       "    .dataframe tbody tr th:only-of-type {\n",
       "        vertical-align: middle;\n",
       "    }\n",
       "\n",
       "    .dataframe tbody tr th {\n",
       "        vertical-align: top;\n",
       "    }\n",
       "\n",
       "    .dataframe thead th {\n",
       "        text-align: right;\n",
       "    }\n",
       "</style>\n",
       "<table border=\"1\" class=\"dataframe\">\n",
       "  <thead>\n",
       "    <tr style=\"text-align: right;\">\n",
       "      <th></th>\n",
       "      <th>GDP_per_Capita</th>\n",
       "    </tr>\n",
       "  </thead>\n",
       "  <tbody>\n",
       "    <tr>\n",
       "      <th>count</th>\n",
       "      <td>241.000000</td>\n",
       "    </tr>\n",
       "    <tr>\n",
       "      <th>mean</th>\n",
       "      <td>20711.570080</td>\n",
       "    </tr>\n",
       "    <tr>\n",
       "      <th>std</th>\n",
       "      <td>20916.978968</td>\n",
       "    </tr>\n",
       "    <tr>\n",
       "      <th>min</th>\n",
       "      <td>714.066712</td>\n",
       "    </tr>\n",
       "    <tr>\n",
       "      <th>25%</th>\n",
       "      <td>5044.196028</td>\n",
       "    </tr>\n",
       "    <tr>\n",
       "      <th>50%</th>\n",
       "      <td>13754.802423</td>\n",
       "    </tr>\n",
       "    <tr>\n",
       "      <th>75%</th>\n",
       "      <td>30974.370692</td>\n",
       "    </tr>\n",
       "    <tr>\n",
       "      <th>max</th>\n",
       "      <td>115683.493708</td>\n",
       "    </tr>\n",
       "  </tbody>\n",
       "</table>\n",
       "</div>"
      ],
      "text/plain": [
       "       GDP_per_Capita\n",
       "count      241.000000\n",
       "mean     20711.570080\n",
       "std      20916.978968\n",
       "min        714.066712\n",
       "25%       5044.196028\n",
       "50%      13754.802423\n",
       "75%      30974.370692\n",
       "max     115683.493708"
      ]
     },
     "execution_count": 21,
     "metadata": {},
     "output_type": "execute_result"
    }
   ],
   "source": [
    "gdp_2021.loc[:, ['GDP_per_Capita']].describe()"
   ]
  },
  {
   "cell_type": "markdown",
   "id": "3de7621c-1c51-41a2-bc63-7bab9f6eecfe",
   "metadata": {},
   "source": [
    "The standard deviation is larger than mean. This denotes a skewed distribution."
   ]
  },
  {
   "cell_type": "markdown",
   "id": "d01c9f19-6467-4f42-8be8-a6b9ec64b041",
   "metadata": {},
   "source": [
    "### 11. Create a histogram of GDP Per Capita numbers for 2021 (you may wish to adjust the number of bins for your histogram). How would you describe the shape of the distribution?"
   ]
  },
  {
   "cell_type": "code",
   "execution_count": 24,
   "id": "b2ae04c2-ca73-4a60-b517-3e2b5d47f1ba",
   "metadata": {},
   "outputs": [
    {
     "data": {
      "text/plain": [
       "Text(0.5, 1.0, 'GDP_per_Capita Distribution')"
      ]
     },
     "execution_count": 24,
     "metadata": {},
     "output_type": "execute_result"
    },
    {
     "data": {
      "image/png": "[encoded data removed]",
      "text/plain": [
       "<Figure size 640x480 with 1 Axes>"
      ]
     },
     "metadata": {},
     "output_type": "display_data"
    }
   ],
   "source": [
    "gdp_2021['GDP_per_Capita'].plot(kind='hist')\n",
    "plt.xlabel('GDP_per_Capita Values')\n",
    "plt.ylabel('frequency')\n",
    "plt.title('GDP_per_Capita Distribution')"
   ]
  },
  {
   "cell_type": "markdown",
   "id": "5a4210cf-0a2f-4654-9e4b-0ac6dc3c9c25",
   "metadata": {},
   "source": [
    "The distribution is skewed to the right. The outlier data pulls the mean to the right and is greater than the median; thus, the median is a greater representation of the middle and IQR is a greater representation of the spread. I would plot this data with a boxplot."
   ]
  },
  {
   "cell_type": "markdown",
   "id": "aa6d8a08-e54c-4fe7-80ee-53522a363afa",
   "metadata": {},
   "source": [
    "### 12. Find the top 5 counties and bottom 5 countries by GDP per capita in 2021."
   ]
  },
  {
   "cell_type": "code",
   "execution_count": 27,
   "id": "02446ca8-6109-4662-bd65-18d50175ce56",
   "metadata": {},
   "outputs": [
    {
     "data": {
      "text/html": [
       "<div>\n",
       "<style scoped>\n",
       "    .dataframe tbody tr th:only-of-type {\n",
       "        vertical-align: middle;\n",
       "    }\n",
       "\n",
       "    .dataframe tbody tr th {\n",
       "        vertical-align: top;\n",
       "    }\n",
       "\n",
       "    .dataframe thead th {\n",
       "        text-align: right;\n",
       "    }\n",
       "</style>\n",
       "<table border=\"1\" class=\"dataframe\">\n",
       "  <thead>\n",
       "    <tr style=\"text-align: right;\">\n",
       "      <th></th>\n",
       "      <th>Country</th>\n",
       "      <th>Year</th>\n",
       "      <th>GDP_per_Capita</th>\n",
       "    </tr>\n",
       "  </thead>\n",
       "  <tbody>\n",
       "    <tr>\n",
       "      <th>4147</th>\n",
       "      <td>Luxembourg</td>\n",
       "      <td>2021</td>\n",
       "      <td>115683.493708</td>\n",
       "    </tr>\n",
       "    <tr>\n",
       "      <th>6107</th>\n",
       "      <td>Singapore</td>\n",
       "      <td>2021</td>\n",
       "      <td>107741.118436</td>\n",
       "    </tr>\n",
       "    <tr>\n",
       "      <th>3278</th>\n",
       "      <td>Ireland</td>\n",
       "      <td>2021</td>\n",
       "      <td>102785.490239</td>\n",
       "    </tr>\n",
       "    <tr>\n",
       "      <th>5745</th>\n",
       "      <td>Qatar</td>\n",
       "      <td>2021</td>\n",
       "      <td>92862.571798</td>\n",
       "    </tr>\n",
       "    <tr>\n",
       "      <th>680</th>\n",
       "      <td>Bermuda</td>\n",
       "      <td>2021</td>\n",
       "      <td>78570.489515</td>\n",
       "    </tr>\n",
       "  </tbody>\n",
       "</table>\n",
       "</div>"
      ],
      "text/plain": [
       "         Country  Year  GDP_per_Capita\n",
       "4147  Luxembourg  2021   115683.493708\n",
       "6107   Singapore  2021   107741.118436\n",
       "3278     Ireland  2021   102785.490239\n",
       "5745       Qatar  2021    92862.571798\n",
       "680      Bermuda  2021    78570.489515"
      ]
     },
     "execution_count": 27,
     "metadata": {},
     "output_type": "execute_result"
    }
   ],
   "source": [
    "gdp_2021.nlargest(5, columns='GDP_per_Capita')"
   ]
  },
  {
   "cell_type": "code",
   "execution_count": 28,
   "id": "f1897de4-2a73-4af5-a861-556e6226f73d",
   "metadata": {},
   "outputs": [
    {
     "data": {
      "text/html": [
       "<div>\n",
       "<style scoped>\n",
       "    .dataframe tbody tr th:only-of-type {\n",
       "        vertical-align: middle;\n",
       "    }\n",
       "\n",
       "    .dataframe tbody tr th {\n",
       "        vertical-align: top;\n",
       "    }\n",
       "\n",
       "    .dataframe thead th {\n",
       "        text-align: right;\n",
       "    }\n",
       "</style>\n",
       "<table border=\"1\" class=\"dataframe\">\n",
       "  <thead>\n",
       "    <tr style=\"text-align: right;\">\n",
       "      <th></th>\n",
       "      <th>Country</th>\n",
       "      <th>Year</th>\n",
       "      <th>GDP_per_Capita</th>\n",
       "    </tr>\n",
       "  </thead>\n",
       "  <tbody>\n",
       "    <tr>\n",
       "      <th>972</th>\n",
       "      <td>Burundi</td>\n",
       "      <td>2021</td>\n",
       "      <td>714.066712</td>\n",
       "    </tr>\n",
       "    <tr>\n",
       "      <th>1216</th>\n",
       "      <td>Central African Republic</td>\n",
       "      <td>2021</td>\n",
       "      <td>837.504686</td>\n",
       "    </tr>\n",
       "    <tr>\n",
       "      <th>1629</th>\n",
       "      <td>Dem. Rep. Congo</td>\n",
       "      <td>2021</td>\n",
       "      <td>1073.643271</td>\n",
       "    </tr>\n",
       "    <tr>\n",
       "      <th>6272</th>\n",
       "      <td>Somalia</td>\n",
       "      <td>2021</td>\n",
       "      <td>1136.735989</td>\n",
       "    </tr>\n",
       "    <tr>\n",
       "      <th>5073</th>\n",
       "      <td>Niger</td>\n",
       "      <td>2021</td>\n",
       "      <td>1186.576809</td>\n",
       "    </tr>\n",
       "  </tbody>\n",
       "</table>\n",
       "</div>"
      ],
      "text/plain": [
       "                       Country  Year  GDP_per_Capita\n",
       "972                    Burundi  2021      714.066712\n",
       "1216  Central African Republic  2021      837.504686\n",
       "1629           Dem. Rep. Congo  2021     1073.643271\n",
       "6272                   Somalia  2021     1136.735989\n",
       "5073                     Niger  2021     1186.576809"
      ]
     },
     "execution_count": 28,
     "metadata": {},
     "output_type": "execute_result"
    }
   ],
   "source": [
    "gdp_2021.nsmallest(5, columns='GDP_per_Capita')"
   ]
  },
  {
   "cell_type": "markdown",
   "id": "01b589c5-4316-4245-896d-d2e1bfd3bd11",
   "metadata": {},
   "source": [
    "**I originally wrote the code below to answer question 12, but I changed it later. In the lecture Michael said\n",
    "sort_values method was preferred to nlargest and nsmallest -- why?**"
   ]
  },
  {
   "cell_type": "code",
   "execution_count": 30,
   "id": "7e21b36f-88d2-4db5-a727-96380ba46c84",
   "metadata": {},
   "outputs": [
    {
     "data": {
      "text/html": [
       "<div>\n",
       "<style scoped>\n",
       "    .dataframe tbody tr th:only-of-type {\n",
       "        vertical-align: middle;\n",
       "    }\n",
       "\n",
       "    .dataframe tbody tr th {\n",
       "        vertical-align: top;\n",
       "    }\n",
       "\n",
       "    .dataframe thead th {\n",
       "        text-align: right;\n",
       "    }\n",
       "</style>\n",
       "<table border=\"1\" class=\"dataframe\">\n",
       "  <thead>\n",
       "    <tr style=\"text-align: right;\">\n",
       "      <th></th>\n",
       "      <th>Country</th>\n",
       "      <th>Year</th>\n",
       "      <th>GDP_per_Capita</th>\n",
       "    </tr>\n",
       "  </thead>\n",
       "  <tbody>\n",
       "    <tr>\n",
       "      <th>972</th>\n",
       "      <td>Burundi</td>\n",
       "      <td>2021</td>\n",
       "      <td>714.066712</td>\n",
       "    </tr>\n",
       "    <tr>\n",
       "      <th>1216</th>\n",
       "      <td>Central African Republic</td>\n",
       "      <td>2021</td>\n",
       "      <td>837.504686</td>\n",
       "    </tr>\n",
       "    <tr>\n",
       "      <th>1629</th>\n",
       "      <td>Dem. Rep. Congo</td>\n",
       "      <td>2021</td>\n",
       "      <td>1073.643271</td>\n",
       "    </tr>\n",
       "    <tr>\n",
       "      <th>6272</th>\n",
       "      <td>Somalia</td>\n",
       "      <td>2021</td>\n",
       "      <td>1136.735989</td>\n",
       "    </tr>\n",
       "    <tr>\n",
       "      <th>5073</th>\n",
       "      <td>Niger</td>\n",
       "      <td>2021</td>\n",
       "      <td>1186.576809</td>\n",
       "    </tr>\n",
       "    <tr>\n",
       "      <th>...</th>\n",
       "      <td>...</td>\n",
       "      <td>...</td>\n",
       "      <td>...</td>\n",
       "    </tr>\n",
       "    <tr>\n",
       "      <th>680</th>\n",
       "      <td>Bermuda</td>\n",
       "      <td>2021</td>\n",
       "      <td>78570.489515</td>\n",
       "    </tr>\n",
       "    <tr>\n",
       "      <th>5745</th>\n",
       "      <td>Qatar</td>\n",
       "      <td>2021</td>\n",
       "      <td>92862.571798</td>\n",
       "    </tr>\n",
       "    <tr>\n",
       "      <th>3278</th>\n",
       "      <td>Ireland</td>\n",
       "      <td>2021</td>\n",
       "      <td>102785.490239</td>\n",
       "    </tr>\n",
       "    <tr>\n",
       "      <th>6107</th>\n",
       "      <td>Singapore</td>\n",
       "      <td>2021</td>\n",
       "      <td>107741.118436</td>\n",
       "    </tr>\n",
       "    <tr>\n",
       "      <th>4147</th>\n",
       "      <td>Luxembourg</td>\n",
       "      <td>2021</td>\n",
       "      <td>115683.493708</td>\n",
       "    </tr>\n",
       "  </tbody>\n",
       "</table>\n",
       "<p>241 rows × 3 columns</p>\n",
       "</div>"
      ],
      "text/plain": [
       "                       Country  Year  GDP_per_Capita\n",
       "972                    Burundi  2021      714.066712\n",
       "1216  Central African Republic  2021      837.504686\n",
       "1629           Dem. Rep. Congo  2021     1073.643271\n",
       "6272                   Somalia  2021     1136.735989\n",
       "5073                     Niger  2021     1186.576809\n",
       "...                        ...   ...             ...\n",
       "680                    Bermuda  2021    78570.489515\n",
       "5745                     Qatar  2021    92862.571798\n",
       "3278                   Ireland  2021   102785.490239\n",
       "6107                 Singapore  2021   107741.118436\n",
       "4147                Luxembourg  2021   115683.493708\n",
       "\n",
       "[241 rows x 3 columns]"
      ]
     },
     "execution_count": 30,
     "metadata": {},
     "output_type": "execute_result"
    }
   ],
   "source": [
    "gdp_2021.sort_values(by='GDP_per_Capita')"
   ]
  },
  {
   "cell_type": "markdown",
   "id": "3f8ebf94-1b84-4901-ab67-c5708cddd640",
   "metadata": {},
   "source": [
    "The top 5 countries GDP_per_Capita are Luxembourg, Singapore, Ireland, Qatar, Bermuda, respectively. \n",
    "The lowest 5 countries GDP_per_capita are Burundi, Central African Republic, Dem. Rep. Condo, Somalia, Niger. "
   ]
  },
  {
   "cell_type": "markdown",
   "id": "45048382-4ac6-45f7-bde1-0fac7eb59218",
   "metadata": {},
   "source": [
    "### 13. Now, return to the full dataset, `gdp_df`. Pivot the data for 1990 and 2021 (using the pandas `.pivot_table()` method or another method) so that each row corresponds to a country, each column corresponds to a year, and the values in the table give the GDP_Per_Capita amount. Drop any rows that are missing values for either 1990 or 2021. Save the result to a dataframe named `gdp_pivoted`."
   ]
  },
  {
   "cell_type": "code",
   "execution_count": 33,
   "id": "112cba72-6fa2-4fec-bd31-62e8d22f346c",
   "metadata": {},
   "outputs": [],
   "source": [
    "gdp_pivoted = (\n",
    "    gdp_df\n",
    "    [gdp_df['Year'].isin([1990, 2021])]\n",
    "    .pivot_table(index = 'Country', columns = 'Year', values = 'GDP_per_Capita')\n",
    "    .dropna()\n",
    ")"
   ]
  },
  {
   "cell_type": "markdown",
   "id": "3e10b989-32ca-4bf4-bd7d-9b4661e5b8a9",
   "metadata": {},
   "source": [
    "**I originally used the code below to answer number 13, but I could not get it to drop the NaN values. Can you tell me why?**"
   ]
  },
  {
   "cell_type": "code",
   "execution_count": 35,
   "id": "22a5599a-106a-49a0-ab86-06f9c687ec7f",
   "metadata": {},
   "outputs": [],
   "source": [
    "# gdp_pivoted = gdp_df.loc[(gdp_df['Year'] == 1990) | (gdp_df['Year'] == 2021)].pivot_table(index='Country', columns='Year', values='GDP_per_Capita', dropna=True))"
   ]
  },
  {
   "cell_type": "markdown",
   "id": "d549a98f-5f82-4f95-97d4-92266526751d",
   "metadata": {},
   "source": [
    "## 14. Create a new column in `gdp_pivoted` named `Percent_Change`. This column should contain the percent change in GDP_Per_Capita from 1990 to 2021. Hint: Percent change is calculated as 100*(New Value - Old Value) / Old Value."
   ]
  },
  {
   "cell_type": "code",
   "execution_count": 37,
   "id": "183c3a4f-993c-42e6-a051-ea073a661a66",
   "metadata": {},
   "outputs": [],
   "source": [
    "gdp_pivoted['Percent_Change'] = ((gdp_pivoted.loc[:, 2021] - gdp_pivoted.loc[:, 1990])/(gdp_pivoted.loc[:, 1990]))*100"
   ]
  },
  {
   "cell_type": "markdown",
   "id": "c19b29a6-fecb-47af-a10b-60c0955dede6",
   "metadata": {},
   "source": [
    "## 15. How many countries experienced a negative percent change in GDP per capita from 1990 to 2021?"
   ]
  },
  {
   "cell_type": "code",
   "execution_count": 39,
   "id": "b269057c-1aa4-4be2-bf80-97f7e81c7ec6",
   "metadata": {},
   "outputs": [
    {
     "data": {
      "text/plain": [
       "19"
      ]
     },
     "execution_count": 39,
     "metadata": {},
     "output_type": "execute_result"
    }
   ],
   "source": [
    "(gdp_pivoted['Percent_Change'] < 0).sum()"
   ]
  },
  {
   "cell_type": "markdown",
   "id": "9de67ad3-dcc2-4a58-af37-2fc49982fa49",
   "metadata": {},
   "source": [
    "19 countries experienced a negative percent change in GDP per capita from 1990 to 2021. "
   ]
  },
  {
   "cell_type": "markdown",
   "id": "eaaae47b-3d9a-43a5-ad99-251806709a83",
   "metadata": {},
   "source": [
    "### 16. Country with highest percent change in GDP_per_Capita"
   ]
  },
  {
   "cell_type": "markdown",
   "id": "0f458057-9d65-40c3-aef3-f62826b805b8",
   "metadata": {},
   "source": [
    "Equatorial Guinea has the highest percentage change GDP per capita. China is the second highest percentage change in GDP per capita."
   ]
  },
  {
   "cell_type": "code",
   "execution_count": 43,
   "id": "6453caca-a4f5-4488-ad8a-21d67fbadb8c",
   "metadata": {},
   "outputs": [
    {
     "data": {
      "text/html": [
       "<div>\n",
       "<style scoped>\n",
       "    .dataframe tbody tr th:only-of-type {\n",
       "        vertical-align: middle;\n",
       "    }\n",
       "\n",
       "    .dataframe tbody tr th {\n",
       "        vertical-align: top;\n",
       "    }\n",
       "\n",
       "    .dataframe thead th {\n",
       "        text-align: right;\n",
       "    }\n",
       "</style>\n",
       "<table border=\"1\" class=\"dataframe\">\n",
       "  <thead>\n",
       "    <tr style=\"text-align: right;\">\n",
       "      <th>Year</th>\n",
       "      <th>1990</th>\n",
       "      <th>2021</th>\n",
       "      <th>Percent_Change</th>\n",
       "    </tr>\n",
       "    <tr>\n",
       "      <th>Country</th>\n",
       "      <th></th>\n",
       "      <th></th>\n",
       "      <th></th>\n",
       "    </tr>\n",
       "  </thead>\n",
       "  <tbody>\n",
       "    <tr>\n",
       "      <th>Equatorial Guinea</th>\n",
       "      <td>936.419751</td>\n",
       "      <td>14637.007350</td>\n",
       "      <td>1463.081870</td>\n",
       "    </tr>\n",
       "    <tr>\n",
       "      <th>China</th>\n",
       "      <td>1423.896348</td>\n",
       "      <td>17657.495181</td>\n",
       "      <td>1140.082904</td>\n",
       "    </tr>\n",
       "  </tbody>\n",
       "</table>\n",
       "</div>"
      ],
      "text/plain": [
       "Year                      1990          2021  Percent_Change\n",
       "Country                                                     \n",
       "Equatorial Guinea   936.419751  14637.007350     1463.081870\n",
       "China              1423.896348  17657.495181     1140.082904"
      ]
     },
     "execution_count": 43,
     "metadata": {},
     "output_type": "execute_result"
    }
   ],
   "source": [
    "gdp_pivoted.nlargest(2, 'Percent_Change')"
   ]
  },
  {
   "cell_type": "markdown",
   "id": "3ee6508e-1173-495d-a023-20768aa6bac2",
   "metadata": {},
   "source": [
    "### 16.1  Countries with 1st & 2nd Highest percentage increase Line Plot\n",
    "Equatorial Guinea had a faster and more volatile rise in GDP per Capita than China. They've recently experienced a down trend. "
   ]
  },
  {
   "cell_type": "code",
   "execution_count": 45,
   "id": "8997472b-b8ef-4f8b-b1e7-4d4a814f54ee",
   "metadata": {},
   "outputs": [
    {
     "data": {
      "text/plain": [
       "Text(0, 0.5, 'GDP_per_Capita')"
      ]
     },
     "execution_count": 45,
     "metadata": {},
     "output_type": "execute_result"
    },
    {
     "data": {
      "image/png": "[encoded data removed]",
      "text/plain": [
       "<Figure size 640x480 with 1 Axes>"
      ]
     },
     "metadata": {},
     "output_type": "display_data"
    }
   ],
   "source": [
    "fig, ax = plt.subplots()\n",
    "gdp_df.loc[gdp_df['Country'] == 'Equatorial Guinea'].plot(kind='line', x='Year', y='GDP_per_Capita', ax=ax, label='Equatorial Guinea')\n",
    "gdp_df.loc[gdp_df['Country'] == 'China'].plot(kind='line', x='Year', y='GDP_per_Capita', ax=ax, label='China')\n",
    "plt.ylabel('GDP_per_Capita')"
   ]
  },
  {
   "cell_type": "markdown",
   "id": "1a47ccd0-a5ae-431c-9e02-525df6b8e963",
   "metadata": {},
   "source": [
    "### 17. Read in Continents folder."
   ]
  },
  {
   "cell_type": "code",
   "execution_count": 47,
   "id": "66f088a8-b604-4496-a16c-e76683bcf447",
   "metadata": {},
   "outputs": [],
   "source": [
    "continents = pd.read_csv('../data/continents.csv')"
   ]
  },
  {
   "cell_type": "markdown",
   "id": "31423b5c-c595-4bbb-864a-e59ab85bb6c6",
   "metadata": {},
   "source": [
    "### 18. Merge gdp_df and continents. Keep only the countries that appear in both data frames. Save the result back to gdp_df.\n"
   ]
  },
  {
   "cell_type": "code",
   "execution_count": 49,
   "id": "88a4dcc9-c4fa-457c-beae-fe4f89eb80e3",
   "metadata": {},
   "outputs": [],
   "source": [
    "gdp_df = pd.merge(\n",
    "    left = gdp_df, \n",
    "    right = continents,\n",
    "    on = 'Country',\n",
    "    how = 'inner',\n",
    "    validate = 'many_to_one'\n",
    ")"
   ]
  },
  {
   "cell_type": "markdown",
   "id": "e79265b7-c7c5-4546-883a-db4999164bff",
   "metadata": {},
   "source": [
    "### 19. Determine the number of countries per continent. Create a bar chart showing this.\n"
   ]
  },
  {
   "cell_type": "code",
   "execution_count": 51,
   "id": "1b730054-6c88-4a17-b87a-7ef2f80219e7",
   "metadata": {},
   "outputs": [
    {
     "data": {
      "text/plain": [
       "<Axes: title={'center': 'Numer of countries per Continent'}, xlabel='Continent'>"
      ]
     },
     "execution_count": 51,
     "metadata": {},
     "output_type": "execute_result"
    },
    {
     "data": {
      "image/png": "[encoded data removed]",
      "text/plain": [
       "<Figure size 640x480 with 1 Axes>"
      ]
     },
     "metadata": {},
     "output_type": "display_data"
    }
   ],
   "source": [
    "gdp_df.groupby('Continent')['Country'].nunique().plot(kind='bar', title='Numer of countries per Continent')"
   ]
  },
  {
   "cell_type": "markdown",
   "id": "750b9abe-4ace-4df9-a174-d350b2c86d21",
   "metadata": {},
   "source": [
    "### 20. Create a seaborn boxplot showing GDP per capita in 2021 split out by continent. What do you notice?"
   ]
  },
  {
   "cell_type": "code",
   "execution_count": 53,
   "id": "c62ddfb2-0e1d-4e3f-abfd-59f18029eb86",
   "metadata": {},
   "outputs": [
    {
     "data": {
      "text/plain": [
       "<Axes: xlabel='Continent', ylabel='GDP_per_Capita'>"
      ]
     },
     "execution_count": 53,
     "metadata": {},
     "output_type": "execute_result"
    },
    {
     "data": {
      "image/png": "[encoded data removed]",
      "text/plain": [
       "<Figure size 1000x600 with 1 Axes>"
      ]
     },
     "metadata": {},
     "output_type": "display_data"
    }
   ],
   "source": [
    "plt.figure(figsize = (10,6))\n",
    "sns.boxplot(\n",
    "    x='Continent', \n",
    "    y='GDP_per_Capita', \n",
    "    data=gdp_df.loc[gdp_df['Year'] == 2021]\n",
    ")"
   ]
  },
  {
   "cell_type": "markdown",
   "id": "05815fb4-30a8-4326-8e8b-fbc454f340d0",
   "metadata": {},
   "source": [
    "### 21. Download the full csv containing Life expectancy at birth, total (years) from [https://data.worldbank.org/indicator/SP.DYN.LE00.IN?name_desc=false](https://data.worldbank.org/indicator/SP.DYN.LE00.IN?name_desc=false). Read this data into a DataFrame named `life_expectancy`. Note: When reading this dataset it, you may encounter an error. Modify your `read_csv` call to correct this **without modifying the original csv file**."
   ]
  },
  {
   "cell_type": "code",
   "execution_count": 55,
   "id": "a30a9306-03af-48b7-941a-0c0fb15a26e9",
   "metadata": {},
   "outputs": [],
   "source": [
    "life_expectancy = pd.read_csv('../data/life_exp.csv', header=2)"
   ]
  },
  {
   "cell_type": "markdown",
   "id": "69494789-2b6c-493a-9a03-1a1a47005068",
   "metadata": {},
   "source": [
    "### 22. Drop the Country Code, Indicator Name, and Indicator Code columns. Then use [`.melt()`](https://pandas.pydata.org/docs/reference/api/pandas.melt.html) to convert your data from wide to long. That is, instead of having one row per country and multiple colums per year, we want to have multiple rows per country and a single column for year. After melting, rename the columns to `Country`, `Year`, and `Life_Expectancy`."
   ]
  },
  {
   "cell_type": "code",
   "execution_count": 57,
   "id": "2f123c2e-b733-42d4-b747-741275713cdf",
   "metadata": {},
   "outputs": [],
   "source": [
    "life_expectancy = (\n",
    "    life_expectancy\n",
    "    .drop(columns=['Country Code', 'Indicator Name', 'Indicator Code', 'Unnamed: 68'])\n",
    "    .melt(id_vars='Country Name')\n",
    "    .rename(columns={'Country Name': 'Country', 'variable':'Year', 'value':'Life_Expectancy'})\n",
    ")"
   ]
  },
  {
   "cell_type": "markdown",
   "id": "fb98af1f-5eff-482b-bdfa-77b5019df2a6",
   "metadata": {},
   "source": [
    "## 23. What was the first country with a life expectancy to exceed 80?"
   ]
  },
  {
   "cell_type": "code",
   "execution_count": 59,
   "id": "4098190e-542c-4a21-b6af-99e5e3372b48",
   "metadata": {},
   "outputs": [
    {
     "data": {
      "text/html": [
       "<div>\n",
       "<style scoped>\n",
       "    .dataframe tbody tr th:only-of-type {\n",
       "        vertical-align: middle;\n",
       "    }\n",
       "\n",
       "    .dataframe tbody tr th {\n",
       "        vertical-align: top;\n",
       "    }\n",
       "\n",
       "    .dataframe thead th {\n",
       "        text-align: right;\n",
       "    }\n",
       "</style>\n",
       "<table border=\"1\" class=\"dataframe\">\n",
       "  <thead>\n",
       "    <tr style=\"text-align: right;\">\n",
       "      <th></th>\n",
       "      <th>Country</th>\n",
       "      <th>Year</th>\n",
       "      <th>Life_Expectancy</th>\n",
       "    </tr>\n",
       "  </thead>\n",
       "  <tbody>\n",
       "    <tr>\n",
       "      <th>9695</th>\n",
       "      <td>Japan</td>\n",
       "      <td>1996</td>\n",
       "      <td>80.219756</td>\n",
       "    </tr>\n",
       "    <tr>\n",
       "      <th>9926</th>\n",
       "      <td>Gibraltar</td>\n",
       "      <td>1997</td>\n",
       "      <td>80.343000</td>\n",
       "    </tr>\n",
       "    <tr>\n",
       "      <th>9938</th>\n",
       "      <td>Hong Kong SAR, China</td>\n",
       "      <td>1997</td>\n",
       "      <td>80.112195</td>\n",
       "    </tr>\n",
       "    <tr>\n",
       "      <th>9961</th>\n",
       "      <td>Japan</td>\n",
       "      <td>1997</td>\n",
       "      <td>80.424146</td>\n",
       "    </tr>\n",
       "    <tr>\n",
       "      <th>9988</th>\n",
       "      <td>Macao SAR, China</td>\n",
       "      <td>1997</td>\n",
       "      <td>80.162000</td>\n",
       "    </tr>\n",
       "    <tr>\n",
       "      <th>...</th>\n",
       "      <td>...</td>\n",
       "      <td>...</td>\n",
       "      <td>...</td>\n",
       "    </tr>\n",
       "    <tr>\n",
       "      <th>16576</th>\n",
       "      <td>Gibraltar</td>\n",
       "      <td>2022</td>\n",
       "      <td>82.830000</td>\n",
       "    </tr>\n",
       "    <tr>\n",
       "      <th>16581</th>\n",
       "      <td>Greece</td>\n",
       "      <td>2022</td>\n",
       "      <td>80.636585</td>\n",
       "    </tr>\n",
       "    <tr>\n",
       "      <th>16588</th>\n",
       "      <td>Hong Kong SAR, China</td>\n",
       "      <td>2022</td>\n",
       "      <td>83.660976</td>\n",
       "    </tr>\n",
       "    <tr>\n",
       "      <th>16550</th>\n",
       "      <td>Denmark</td>\n",
       "      <td>2022</td>\n",
       "      <td>81.304878</td>\n",
       "    </tr>\n",
       "    <tr>\n",
       "      <th>16748</th>\n",
       "      <td>Virgin Islands (U.S.)</td>\n",
       "      <td>2022</td>\n",
       "      <td>80.319512</td>\n",
       "    </tr>\n",
       "  </tbody>\n",
       "</table>\n",
       "<p>690 rows × 3 columns</p>\n",
       "</div>"
      ],
      "text/plain": [
       "                     Country  Year  Life_Expectancy\n",
       "9695                   Japan  1996        80.219756\n",
       "9926               Gibraltar  1997        80.343000\n",
       "9938    Hong Kong SAR, China  1997        80.112195\n",
       "9961                   Japan  1997        80.424146\n",
       "9988        Macao SAR, China  1997        80.162000\n",
       "...                      ...   ...              ...\n",
       "16576              Gibraltar  2022        82.830000\n",
       "16581                 Greece  2022        80.636585\n",
       "16588   Hong Kong SAR, China  2022        83.660976\n",
       "16550                Denmark  2022        81.304878\n",
       "16748  Virgin Islands (U.S.)  2022        80.319512\n",
       "\n",
       "[690 rows x 3 columns]"
      ]
     },
     "execution_count": 59,
     "metadata": {},
     "output_type": "execute_result"
    }
   ],
   "source": [
    "life_expectancy[life_expectancy['Life_Expectancy'] >= 80].sort_values(by='Year')"
   ]
  },
  {
   "cell_type": "markdown",
   "id": "28f3225d-e33d-49e7-b2a7-9746470a6846",
   "metadata": {},
   "source": [
    "Japan is the first country."
   ]
  },
  {
   "cell_type": "markdown",
   "id": "45c429db-ac67-4856-85ca-bcac3d5049d9",
   "metadata": {},
   "source": [
    "## 24.  Merge `gdp_df` and `life_expectancy`, keeping all countries and years that appear in both DataFrames. Save the result to a new DataFrame named `gdp_le`. If you get any errors in doing this, read them carefully and correct them. Look at the first five rows of your new data frame to confirm it merged correctly. Also, check the last five rows to make sure the data is clean and as expected."
   ]
  },
  {
   "cell_type": "code",
   "execution_count": 62,
   "id": "39ce6cc9-0e63-412e-acca-222bf82b11e2",
   "metadata": {},
   "outputs": [
    {
     "data": {
      "text/html": [
       "<div>\n",
       "<style scoped>\n",
       "    .dataframe tbody tr th:only-of-type {\n",
       "        vertical-align: middle;\n",
       "    }\n",
       "\n",
       "    .dataframe tbody tr th {\n",
       "        vertical-align: top;\n",
       "    }\n",
       "\n",
       "    .dataframe thead th {\n",
       "        text-align: right;\n",
       "    }\n",
       "</style>\n",
       "<table border=\"1\" class=\"dataframe\">\n",
       "  <thead>\n",
       "    <tr style=\"text-align: right;\">\n",
       "      <th></th>\n",
       "      <th>Country</th>\n",
       "      <th>Year</th>\n",
       "      <th>GDP_per_Capita</th>\n",
       "      <th>Continent</th>\n",
       "      <th>Life_Expectancy</th>\n",
       "      <th>_merge</th>\n",
       "    </tr>\n",
       "  </thead>\n",
       "  <tbody>\n",
       "    <tr>\n",
       "      <th>0</th>\n",
       "      <td>Afghanistan</td>\n",
       "      <td>2021</td>\n",
       "      <td>1517.016266</td>\n",
       "      <td>Asia</td>\n",
       "      <td>61.982</td>\n",
       "      <td>both</td>\n",
       "    </tr>\n",
       "    <tr>\n",
       "      <th>1</th>\n",
       "      <td>Afghanistan</td>\n",
       "      <td>2020</td>\n",
       "      <td>1968.341002</td>\n",
       "      <td>Asia</td>\n",
       "      <td>62.575</td>\n",
       "      <td>both</td>\n",
       "    </tr>\n",
       "    <tr>\n",
       "      <th>2</th>\n",
       "      <td>Afghanistan</td>\n",
       "      <td>2019</td>\n",
       "      <td>2079.921861</td>\n",
       "      <td>Asia</td>\n",
       "      <td>63.565</td>\n",
       "      <td>both</td>\n",
       "    </tr>\n",
       "    <tr>\n",
       "      <th>3</th>\n",
       "      <td>Afghanistan</td>\n",
       "      <td>2018</td>\n",
       "      <td>2060.698973</td>\n",
       "      <td>Asia</td>\n",
       "      <td>63.081</td>\n",
       "      <td>both</td>\n",
       "    </tr>\n",
       "    <tr>\n",
       "      <th>4</th>\n",
       "      <td>Afghanistan</td>\n",
       "      <td>2017</td>\n",
       "      <td>2096.093111</td>\n",
       "      <td>Asia</td>\n",
       "      <td>63.016</td>\n",
       "      <td>both</td>\n",
       "    </tr>\n",
       "  </tbody>\n",
       "</table>\n",
       "</div>"
      ],
      "text/plain": [
       "       Country  Year  GDP_per_Capita Continent  Life_Expectancy _merge\n",
       "0  Afghanistan  2021     1517.016266      Asia           61.982   both\n",
       "1  Afghanistan  2020     1968.341002      Asia           62.575   both\n",
       "2  Afghanistan  2019     2079.921861      Asia           63.565   both\n",
       "3  Afghanistan  2018     2060.698973      Asia           63.081   both\n",
       "4  Afghanistan  2017     2096.093111      Asia           63.016   both"
      ]
     },
     "execution_count": 62,
     "metadata": {},
     "output_type": "execute_result"
    }
   ],
   "source": [
    "life_expectancy = life_expectancy.dropna()\n",
    "life_expectancy['Year'] = life_expectancy['Year'].astype(int) # I needed to convert life_expectancy df key from dtype: object to match gdp_df key's dtype: int.\n",
    "gdp_le = pd.merge(\n",
    "    gdp_df,\n",
    "    life_expectancy,\n",
    "    on = ['Year', 'Country'],\n",
    "    validate = \"one_to_one\",\n",
    "    indicator= True\n",
    ")\n",
    "gdp_le.head()"
   ]
  },
  {
   "cell_type": "markdown",
   "id": "f5a45c6e-400c-47fc-9c23-417be895344f",
   "metadata": {},
   "source": [
    "## 25. Create a new DataFrame, named `gdp_le_2021` by extracting data for the year 2021 from `gdp_le`. How many countries have a life expectancy of at least 80 in 2021?\n",
    "31 countries have a life expectancy of at least 80. "
   ]
  },
  {
   "cell_type": "code",
   "execution_count": 64,
   "id": "611aaab4-3705-4b77-b340-c166149cdbe2",
   "metadata": {},
   "outputs": [],
   "source": [
    "gdp_le_2021 = gdp_le.loc[gdp_le['Year'] == 2021]"
   ]
  },
  {
   "cell_type": "code",
   "execution_count": 65,
   "id": "71dfc91e-61d8-40e2-999f-e0f3d75cbfd7",
   "metadata": {},
   "outputs": [
    {
     "data": {
      "text/plain": [
       "31"
      ]
     },
     "execution_count": 65,
     "metadata": {},
     "output_type": "execute_result"
    }
   ],
   "source": [
    "gdp_le_2021[gdp_le_2021['Life_Expectancy'] >= 80].value_counts().sum()"
   ]
  },
  {
   "cell_type": "markdown",
   "id": "e32672c3-0047-4aac-a606-8a48be1bf06c",
   "metadata": {},
   "source": [
    "## 26. Find the countries that had the top 3 largest GDP per capita figures for 2021. Create a [seaborn FacetGrid](https://seaborn.pydata.org/generated/seaborn.FacetGrid.html) showing the change in life expectancy over time for these three countries. Each individual figure in the facet grid will represent a single country."
   ]
  },
  {
   "cell_type": "code",
   "execution_count": 67,
   "id": "0950b0d9-cd92-45b8-bb4f-11f6685a570f",
   "metadata": {},
   "outputs": [
    {
     "data": {
      "text/html": [
       "<div>\n",
       "<style scoped>\n",
       "    .dataframe tbody tr th:only-of-type {\n",
       "        vertical-align: middle;\n",
       "    }\n",
       "\n",
       "    .dataframe tbody tr th {\n",
       "        vertical-align: top;\n",
       "    }\n",
       "\n",
       "    .dataframe thead th {\n",
       "        text-align: right;\n",
       "    }\n",
       "</style>\n",
       "<table border=\"1\" class=\"dataframe\">\n",
       "  <thead>\n",
       "    <tr style=\"text-align: right;\">\n",
       "      <th></th>\n",
       "      <th>Country</th>\n",
       "      <th>Year</th>\n",
       "      <th>GDP_per_Capita</th>\n",
       "      <th>Continent</th>\n",
       "      <th>Life_Expectancy</th>\n",
       "      <th>_merge</th>\n",
       "    </tr>\n",
       "  </thead>\n",
       "  <tbody>\n",
       "    <tr>\n",
       "      <th>2857</th>\n",
       "      <td>Luxembourg</td>\n",
       "      <td>2021</td>\n",
       "      <td>115683.493708</td>\n",
       "      <td>Europe</td>\n",
       "      <td>82.597561</td>\n",
       "      <td>both</td>\n",
       "    </tr>\n",
       "    <tr>\n",
       "      <th>4364</th>\n",
       "      <td>Singapore</td>\n",
       "      <td>2021</td>\n",
       "      <td>107741.118436</td>\n",
       "      <td>Asia</td>\n",
       "      <td>83.092683</td>\n",
       "      <td>both</td>\n",
       "    </tr>\n",
       "    <tr>\n",
       "      <th>2285</th>\n",
       "      <td>Ireland</td>\n",
       "      <td>2021</td>\n",
       "      <td>102785.490239</td>\n",
       "      <td>Europe</td>\n",
       "      <td>82.353659</td>\n",
       "      <td>both</td>\n",
       "    </tr>\n",
       "  </tbody>\n",
       "</table>\n",
       "</div>"
      ],
      "text/plain": [
       "         Country  Year  GDP_per_Capita Continent  Life_Expectancy _merge\n",
       "2857  Luxembourg  2021   115683.493708    Europe        82.597561   both\n",
       "4364   Singapore  2021   107741.118436      Asia        83.092683   both\n",
       "2285     Ireland  2021   102785.490239    Europe        82.353659   both"
      ]
     },
     "execution_count": 67,
     "metadata": {},
     "output_type": "execute_result"
    }
   ],
   "source": [
    "gdp_le_2021.sort_values(['GDP_per_Capita'], ascending = False)[0:3] # I needed to find the 3 largest 3 GDP_per_Capita countries for 2021."
   ]
  },
  {
   "cell_type": "code",
   "execution_count": 68,
   "id": "c8ae997c-be17-4054-bccc-d1a1a26e3ca3",
   "metadata": {},
   "outputs": [
    {
     "data": {
      "text/plain": [
       "<seaborn.axisgrid.FacetGrid at 0x1a7670babd0>"
      ]
     },
     "execution_count": 68,
     "metadata": {},
     "output_type": "execute_result"
    },
    {
     "data": {
      "image/png": "[encoded data removed]",
      "text/plain": [
       "<Figure size 1500x500 with 3 Axes>"
      ]
     },
     "metadata": {},
     "output_type": "display_data"
    }
   ],
   "source": [
    "sns.relplot(\n",
    "    data = gdp_le.loc[(gdp_le['Country'] == 'Luxembourg') | (gdp_le['Country'] == 'Singapore') | (gdp_le['Country'] == 'Ireland')],\n",
    "    col = 'Country',\n",
    "    x = 'Year',\n",
    "    y = 'Life_Expectancy',\n",
    "    kind = 'line'\n",
    ")"
   ]
  },
  {
   "cell_type": "markdown",
   "id": "ac581095-a9b6-46b1-aad4-59efcdfa79d2",
   "metadata": {},
   "source": [
    "## 27. Create a scatter plot of Life Expectancy vs GDP per Capita for the year 2021. What do you notice?"
   ]
  },
  {
   "cell_type": "code",
   "execution_count": 70,
   "id": "e945c80a-765a-4fdd-9b42-86c91ba963a9",
   "metadata": {},
   "outputs": [
    {
     "data": {
      "text/plain": [
       "<seaborn.axisgrid.FacetGrid at 0x1a7670b89e0>"
      ]
     },
     "execution_count": 70,
     "metadata": {},
     "output_type": "execute_result"
    },
    {
     "data": {
      "image/png": "[encoded data removed]",
      "text/plain": [
       "<Figure size 500x500 with 1 Axes>"
      ]
     },
     "metadata": {},
     "output_type": "display_data"
    }
   ],
   "source": [
    "sns.relplot(\n",
    "    data = gdp_le_2021,\n",
    "    x = 'GDP_per_Capita',\n",
    "    y = 'Life_Expectancy',\n",
    "    kind = 'scatter'\n",
    ")"
   ]
  },
  {
   "cell_type": "markdown",
   "id": "284af0cf-adc0-4876-8376-53bddeba8337",
   "metadata": {},
   "source": [
    "There is a positive correlation between the two variables. As GDP per Capita increases life expectancy does too. "
   ]
  },
  {
   "cell_type": "markdown",
   "id": "04418fb7-f937-4b3b-8c0e-44da7aa2d6e6",
   "metadata": {},
   "source": [
    "## 28. Find the correlation between Life Expectancy and GDP per Capita for the year 2021. What is the meaning of this number?"
   ]
  },
  {
   "cell_type": "code",
   "execution_count": 73,
   "id": "dd83b090-439b-4a2c-a686-446111ca4ba3",
   "metadata": {},
   "outputs": [
    {
     "data": {
      "text/html": [
       "<div>\n",
       "<style scoped>\n",
       "    .dataframe tbody tr th:only-of-type {\n",
       "        vertical-align: middle;\n",
       "    }\n",
       "\n",
       "    .dataframe tbody tr th {\n",
       "        vertical-align: top;\n",
       "    }\n",
       "\n",
       "    .dataframe thead th {\n",
       "        text-align: right;\n",
       "    }\n",
       "</style>\n",
       "<table border=\"1\" class=\"dataframe\">\n",
       "  <thead>\n",
       "    <tr style=\"text-align: right;\">\n",
       "      <th></th>\n",
       "      <th>Life_Expectancy</th>\n",
       "      <th>GDP_per_Capita</th>\n",
       "    </tr>\n",
       "  </thead>\n",
       "  <tbody>\n",
       "    <tr>\n",
       "      <th>Life_Expectancy</th>\n",
       "      <td>1.000000</td>\n",
       "      <td>0.745081</td>\n",
       "    </tr>\n",
       "    <tr>\n",
       "      <th>GDP_per_Capita</th>\n",
       "      <td>0.745081</td>\n",
       "      <td>1.000000</td>\n",
       "    </tr>\n",
       "  </tbody>\n",
       "</table>\n",
       "</div>"
      ],
      "text/plain": [
       "                 Life_Expectancy  GDP_per_Capita\n",
       "Life_Expectancy         1.000000        0.745081\n",
       "GDP_per_Capita          0.745081        1.000000"
      ]
     },
     "execution_count": 73,
     "metadata": {},
     "output_type": "execute_result"
    }
   ],
   "source": [
    "gdp_le_2021[['Life_Expectancy', 'GDP_per_Capita']].corr()"
   ]
  },
  {
   "cell_type": "markdown",
   "id": "dd612701-20fb-445a-b682-336b9c289599",
   "metadata": {},
   "source": [
    "There is a strong, positive correlation between the two variables. The number ranges between -1 to 1. A positive number represents a direct assocation between the variables (Ex. when one goes up the other goes up and vice versa). A 0 means no correlation between the variables. A negative number represents an indirect association between the variables (Ex. when one goes up the other goes down and vice versa). It is a general rule of thumb that 0 to 0.3 represents a weak association, .3 to .7 represents a medium association, and .7 to 1 represents a strong association. (These numbers aren't exact; it is more or less divided into thirds to describe the strength of the relationship). "
   ]
  },
  {
   "cell_type": "markdown",
   "id": "7aced4a3-4531-4073-99ae-b70d3aa330d3",
   "metadata": {},
   "source": [
    "## 29. Add a column to `gdp_le_2021` and calculate the logarithm of GDP per capita. Find the correlation between the log of GDP per capita and life expectancy. How does this compare to the calculation in the previous part? Look at a scatter plot to see if the result of this calculation makes sense."
   ]
  },
  {
   "cell_type": "code",
   "execution_count": 76,
   "id": "776095c4-d7c8-4021-acce-19e39a46118d",
   "metadata": {},
   "outputs": [],
   "source": [
    "pd.options.mode.chained_assignment = None  # default='warn' # I had to shut off the stupid warning system so I could compute np.log on my subset.\n",
    "gdp_le_2021['GDP_log_per_Capita'] = np.log(gdp_le_2021['GDP_per_Capita'])"
   ]
  },
  {
   "cell_type": "code",
   "execution_count": 77,
   "id": "490653b1-9a6a-404e-88f9-aeb7fe90fc84",
   "metadata": {},
   "outputs": [
    {
     "data": {
      "text/html": [
       "<div>\n",
       "<style scoped>\n",
       "    .dataframe tbody tr th:only-of-type {\n",
       "        vertical-align: middle;\n",
       "    }\n",
       "\n",
       "    .dataframe tbody tr th {\n",
       "        vertical-align: top;\n",
       "    }\n",
       "\n",
       "    .dataframe thead th {\n",
       "        text-align: right;\n",
       "    }\n",
       "</style>\n",
       "<table border=\"1\" class=\"dataframe\">\n",
       "  <thead>\n",
       "    <tr style=\"text-align: right;\">\n",
       "      <th></th>\n",
       "      <th>Life_Expectancy</th>\n",
       "      <th>GDP_log_per_Capita</th>\n",
       "    </tr>\n",
       "  </thead>\n",
       "  <tbody>\n",
       "    <tr>\n",
       "      <th>Life_Expectancy</th>\n",
       "      <td>1.000000</td>\n",
       "      <td>0.846575</td>\n",
       "    </tr>\n",
       "    <tr>\n",
       "      <th>GDP_log_per_Capita</th>\n",
       "      <td>0.846575</td>\n",
       "      <td>1.000000</td>\n",
       "    </tr>\n",
       "  </tbody>\n",
       "</table>\n",
       "</div>"
      ],
      "text/plain": [
       "                    Life_Expectancy  GDP_log_per_Capita\n",
       "Life_Expectancy            1.000000            0.846575\n",
       "GDP_log_per_Capita         0.846575            1.000000"
      ]
     },
     "execution_count": 77,
     "metadata": {},
     "output_type": "execute_result"
    }
   ],
   "source": [
    "gdp_le_2021[['Life_Expectancy', 'GDP_log_per_Capita']].corr()"
   ]
  },
  {
   "cell_type": "markdown",
   "id": "739207d3-90e8-43ba-b9f3-60cd59079845",
   "metadata": {},
   "source": [
    "There is a positive and even stronger association between life expectancy and GDP_log. "
   ]
  },
  {
   "cell_type": "code",
   "execution_count": 79,
   "id": "b2429797-32d6-4239-8f5a-0008c11c502f",
   "metadata": {},
   "outputs": [
    {
     "data": {
      "text/plain": [
       "<seaborn.axisgrid.FacetGrid at 0x1a766dfaa80>"
      ]
     },
     "execution_count": 79,
     "metadata": {},
     "output_type": "execute_result"
    },
    {
     "data": {
      "image/png": "[encoded data removed]",
      "text/plain": [
       "<Figure size 500x500 with 1 Axes>"
      ]
     },
     "metadata": {},
     "output_type": "display_data"
    }
   ],
   "source": [
    "sns.relplot(\n",
    "    data = gdp_le_2021,\n",
    "    x = 'GDP_log_per_Capita',\n",
    "    y = 'Life_Expectancy',\n",
    "    kind='scatter'\n",
    ")"
   ]
  },
  {
   "cell_type": "code",
   "execution_count": null,
   "id": "27b318f1-e149-43d5-9b6b-970365716e45",
   "metadata": {},
   "outputs": [],
   "source": []
  }
 ],
 "metadata": {
  "kernelspec": {
   "display_name": "Python 3 (ipykernel)",
   "language": "python",
   "name": "python3"
  },
  "language_info": {
   "codemirror_mode": {
    "name": "ipython",
    "version": 3
   },
   "file_extension": ".py",
   "mimetype": "text/x-python",
   "name": "python",
   "nbconvert_exporter": "python",
   "pygments_lexer": "ipython3",
   "version": "3.12.4"
  }
 },
 "nbformat": 4,
 "nbformat_minor": 5
}
